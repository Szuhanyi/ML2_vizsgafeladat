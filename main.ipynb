{
 "cells": [
  {
   "cell_type": "code",
   "execution_count": 3,
   "metadata": {},
   "outputs": [],
   "source": [
    "include(\"./prepare_data.jl\")\n",
    "include(\"./model.jl\")\n",
    "\n",
    "import .Model\n",
    "import Flux"
   ]
  },
  {
   "cell_type": "code",
   "execution_count": 30,
   "metadata": {
    "scrolled": true
   },
   "outputs": [
    {
     "data": {
      "text/plain": [
       "Chain(\n",
       "  Recur(\n",
       "    LSTMCell(3 => 32),                  \u001b[90m# 4_672 parameters\u001b[39m\n",
       "  ),\n",
       "  Recur(\n",
       "    LSTMCell(32 => 16),                 \u001b[90m# 3_168 parameters\u001b[39m\n",
       "  ),\n",
       "  Flux.flatten,\n",
       "  Dense(8192 => 3),                     \u001b[90m# 24_579 parameters\u001b[39m\n",
       "  NNlib.softmax,\n",
       ") \u001b[90m        # Total: 12 trainable arrays, \u001b[39m32_419 parameters,\n",
       "\u001b[90m          # plus 4 non-trainable, 96 parameters, summarysize \u001b[39m1.727 KiB."
      ]
     },
     "metadata": {},
     "output_type": "display_data"
    }
   ],
   "source": [
    "using CUDA \n",
    "device = Flux.gpu\n",
    "\n",
    "flux_model = Model.model |> device"
   ]
  },
  {
   "cell_type": "code",
   "execution_count": 31,
   "metadata": {},
   "outputs": [
    {
     "data": {
      "text/plain": [
       "flux_loss (generic function with 1 method)"
      ]
     },
     "metadata": {},
     "output_type": "display_data"
    }
   ],
   "source": [
    "function flux_loss(model, x, y)\n",
    "    ŷ = model(x)\n",
    "    Flux.crossentropy(ŷ, y)\n",
    "end"
   ]
  },
  {
   "cell_type": "code",
   "execution_count": 32,
   "metadata": {},
   "outputs": [
    {
     "data": {
      "text/plain": [
       "(layers = ((cell = (Wi = \u001b[32mLeaf(Adam{Float64}(0.0001, (0.9, 0.999), 1.0e-8), \u001b[39m(Float32[0.0 0.0 0.0; 0.0 0.0 0.0; … ; 0.0 0.0 0.0; 0.0 0.0 0.0], Float32[0.0 0.0 0.0; 0.0 0.0 0.0; … ; 0.0 0.0 0.0; 0.0 0.0 0.0], (0.9, 0.999))\u001b[32m)\u001b[39m, Wh = \u001b[32mLeaf(Adam{Float64}(0.0001, (0.9, 0.999), 1.0e-8), \u001b[39m(Float32[0.0 0.0 … 0.0 0.0; 0.0 0.0 … 0.0 0.0; … ; 0.0 0.0 … 0.0 0.0; 0.0 0.0 … 0.0 0.0], Float32[0.0 0.0 … 0.0 0.0; 0.0 0.0 … 0.0 0.0; … ; 0.0 0.0 … 0.0 0.0; 0.0 0.0 … 0.0 0.0], (0.9, 0.999))\u001b[32m)\u001b[39m, b = \u001b[32mLeaf(Adam{Float64}(0.0001, (0.9, 0.999), 1.0e-8), \u001b[39m(Float32[0.0, 0.0, 0.0, 0.0, 0.0, 0.0, 0.0, 0.0, 0.0, 0.0  …  0.0, 0.0, 0.0, 0.0, 0.0, 0.0, 0.0, 0.0, 0.0, 0.0], Float32[0.0, 0.0, 0.0, 0.0, 0.0, 0.0, 0.0, 0.0, 0.0, 0.0  …  0.0, 0.0, 0.0, 0.0, 0.0, 0.0, 0.0, 0.0, 0.0, 0.0], (0.9, 0.999))\u001b[32m)\u001b[39m, state0 = (\u001b[32mLeaf(Adam{Float64}(0.0001, (0.9, 0.999), 1.0e-8), \u001b[39m(Float32[0.0; 0.0; … ; 0.0; 0.0;;], Float32[0.0; 0.0; … ; 0.0; 0.0;;], (0.9, 0.999))\u001b[32m)\u001b[39m, \u001b[32mLeaf(Adam{Float64}(0.0001, (0.9, 0.999), 1.0e-8), \u001b[39m(Float32[0.0; 0.0; … ; 0.0; 0.0;;], Float32[0.0; 0.0; … ; 0.0; 0.0;;], (0.9, 0.999))\u001b[32m)\u001b[39m)), state = ()), (cell = (Wi = \u001b[32mLeaf(Adam{Float64}(0.0001, (0.9, 0.999), 1.0e-8), \u001b[39m(Float32[0.0 0.0 … 0.0 0.0; 0.0 0.0 … 0.0 0.0; … ; 0.0 0.0 … 0.0 0.0; 0.0 0.0 … 0.0 0.0], Float32[0.0 0.0 … 0.0 0.0; 0.0 0.0 … 0.0 0.0; … ; 0.0 0.0 … 0.0 0.0; 0.0 0.0 … 0.0 0.0], (0.9, 0.999))\u001b[32m)\u001b[39m, Wh = \u001b[32mLeaf(Adam{Float64}(0.0001, (0.9, 0.999), 1.0e-8), \u001b[39m(Float32[0.0 0.0 … 0.0 0.0; 0.0 0.0 … 0.0 0.0; … ; 0.0 0.0 … 0.0 0.0; 0.0 0.0 … 0.0 0.0], Float32[0.0 0.0 … 0.0 0.0; 0.0 0.0 … 0.0 0.0; … ; 0.0 0.0 … 0.0 0.0; 0.0 0.0 … 0.0 0.0], (0.9, 0.999))\u001b[32m)\u001b[39m, b = \u001b[32mLeaf(Adam{Float64}(0.0001, (0.9, 0.999), 1.0e-8), \u001b[39m(Float32[0.0, 0.0, 0.0, 0.0, 0.0, 0.0, 0.0, 0.0, 0.0, 0.0  …  0.0, 0.0, 0.0, 0.0, 0.0, 0.0, 0.0, 0.0, 0.0, 0.0], Float32[0.0, 0.0, 0.0, 0.0, 0.0, 0.0, 0.0, 0.0, 0.0, 0.0  …  0.0, 0.0, 0.0, 0.0, 0.0, 0.0, 0.0, 0.0, 0.0, 0.0], (0.9, 0.999))\u001b[32m)\u001b[39m, state0 = (\u001b[32mLeaf(Adam{Float64}(0.0001, (0.9, 0.999), 1.0e-8), \u001b[39m(Float32[0.0; 0.0; … ; 0.0; 0.0;;], Float32[0.0; 0.0; … ; 0.0; 0.0;;], (0.9, 0.999))\u001b[32m)\u001b[39m, \u001b[32mLeaf(Adam{Float64}(0.0001, (0.9, 0.999), 1.0e-8), \u001b[39m(Float32[0.0; 0.0; … ; 0.0; 0.0;;], Float32[0.0; 0.0; … ; 0.0; 0.0;;], (0.9, 0.999))\u001b[32m)\u001b[39m)), state = ()), (), (weight = \u001b[32mLeaf(Adam{Float64}(0.0001, (0.9, 0.999), 1.0e-8), \u001b[39m(Float32[0.0 0.0 … 0.0 0.0; 0.0 0.0 … 0.0 0.0; 0.0 0.0 … 0.0 0.0], Float32[0.0 0.0 … 0.0 0.0; 0.0 0.0 … 0.0 0.0; 0.0 0.0 … 0.0 0.0], (0.9, 0.999))\u001b[32m)\u001b[39m, bias = \u001b[32mLeaf(Adam{Float64}(0.0001, (0.9, 0.999), 1.0e-8), \u001b[39m(Float32[0.0, 0.0, 0.0], Float32[0.0, 0.0, 0.0], (0.9, 0.999))\u001b[32m)\u001b[39m, σ = ()), ()),)"
      ]
     },
     "metadata": {},
     "output_type": "display_data"
    }
   ],
   "source": [
    "using ProgressMeter\n",
    "using MLUtils \n",
    "\n",
    "data_loader = MLUtils.DataLoader(DataSet(ModelCfgs.D), batchsize=32) |> device\n",
    " opt_state  = Flux.setup(Flux.Adam(0.0001),flux_model)\n"
   ]
  },
  {
   "cell_type": "code",
   "execution_count": 33,
   "metadata": {},
   "outputs": [
    {
     "name": "stderr",
     "output_type": "stream",
     "text": [
      "\r\u001b[32mProgress:   4%|██                                       |  ETA: 0:02:50\u001b[39m\u001b[K"
     ]
    },
    {
     "name": "stderr",
     "output_type": "stream",
     "text": [
      "\r\u001b[32mProgress:   6%|███                                      |  ETA: 0:02:30\u001b[39m\u001b[K"
     ]
    },
    {
     "name": "stderr",
     "output_type": "stream",
     "text": [
      "\r\u001b[32mProgress:   8%|████                                     |  ETA: 0:02:18\u001b[39m\u001b[K"
     ]
    },
    {
     "name": "stderr",
     "output_type": "stream",
     "text": [
      "\r\u001b[32mProgress:  10%|█████                                    |  ETA: 0:02:10\u001b[39m\u001b[K"
     ]
    },
    {
     "name": "stderr",
     "output_type": "stream",
     "text": [
      "\r\u001b[32mProgress:  12%|█████                                    |  ETA: 0:02:04\u001b[39m\u001b[K"
     ]
    },
    {
     "name": "stderr",
     "output_type": "stream",
     "text": [
      "\r\u001b[32mProgress:  14%|██████                                   |  ETA: 0:01:58\u001b[39m\u001b[K"
     ]
    },
    {
     "name": "stderr",
     "output_type": "stream",
     "text": [
      "\r\u001b[32mProgress:  16%|███████                                  |  ETA: 0:01:54\u001b[39m\u001b[K"
     ]
    },
    {
     "name": "stderr",
     "output_type": "stream",
     "text": [
      "\r\u001b[32mProgress:  18%|████████                                 |  ETA: 0:01:50\u001b[39m\u001b[K"
     ]
    },
    {
     "name": "stderr",
     "output_type": "stream",
     "text": [
      "\r\u001b[32mProgress:  20%|█████████                                |  ETA: 0:01:46\u001b[39m\u001b[K"
     ]
    },
    {
     "name": "stderr",
     "output_type": "stream",
     "text": [
      "\r\u001b[32mProgress:  22%|██████████                               |  ETA: 0:01:43\u001b[39m\u001b[K"
     ]
    },
    {
     "name": "stderr",
     "output_type": "stream",
     "text": [
      "\r\u001b[32mProgress:  24%|██████████                               |  ETA: 0:01:39\u001b[39m\u001b[K"
     ]
    },
    {
     "name": "stderr",
     "output_type": "stream",
     "text": [
      "\r\u001b[32mProgress:  26%|███████████                              |  ETA: 0:01:36\u001b[39m\u001b[K"
     ]
    },
    {
     "name": "stderr",
     "output_type": "stream",
     "text": [
      "\r\u001b[32mProgress:  28%|████████████                             |  ETA: 0:01:33\u001b[39m\u001b[K"
     ]
    },
    {
     "name": "stderr",
     "output_type": "stream",
     "text": [
      "\r\u001b[32mProgress:  30%|█████████████                            |  ETA: 0:01:30\u001b[39m\u001b[K"
     ]
    },
    {
     "name": "stderr",
     "output_type": "stream",
     "text": [
      "\r\u001b[32mProgress:  32%|██████████████                           |  ETA: 0:01:27\u001b[39m\u001b[K"
     ]
    },
    {
     "name": "stderr",
     "output_type": "stream",
     "text": [
      "\r\u001b[32mProgress:  34%|██████████████                           |  ETA: 0:01:24\u001b[39m\u001b[K"
     ]
    },
    {
     "name": "stderr",
     "output_type": "stream",
     "text": [
      "\r\u001b[32mProgress:  36%|███████████████                          |  ETA: 0:01:21\u001b[39m\u001b[K"
     ]
    },
    {
     "name": "stderr",
     "output_type": "stream",
     "text": [
      "\r\u001b[32mProgress:  38%|████████████████                         |  ETA: 0:01:19\u001b[39m\u001b[K"
     ]
    },
    {
     "name": "stderr",
     "output_type": "stream",
     "text": [
      "\r\u001b[32mProgress:  40%|█████████████████                        |  ETA: 0:01:16\u001b[39m\u001b[K"
     ]
    },
    {
     "name": "stderr",
     "output_type": "stream",
     "text": [
      "\r\u001b[32mProgress:  42%|██████████████████                       |  ETA: 0:01:13\u001b[39m\u001b[K"
     ]
    },
    {
     "name": "stderr",
     "output_type": "stream",
     "text": [
      "\r\u001b[32mProgress:  44%|███████████████████                      |  ETA: 0:01:11\u001b[39m\u001b[K"
     ]
    },
    {
     "name": "stderr",
     "output_type": "stream",
     "text": [
      "\r\u001b[32mProgress:  46%|███████████████████                      |  ETA: 0:01:08\u001b[39m\u001b[K"
     ]
    },
    {
     "name": "stderr",
     "output_type": "stream",
     "text": [
      "\r\u001b[32mProgress:  48%|████████████████████                     |  ETA: 0:01:05\u001b[39m\u001b[K"
     ]
    },
    {
     "name": "stderr",
     "output_type": "stream",
     "text": [
      "\r\u001b[32mProgress:  50%|█████████████████████                    |  ETA: 0:01:03\u001b[39m\u001b[K"
     ]
    },
    {
     "name": "stderr",
     "output_type": "stream",
     "text": [
      "\r\u001b[32mProgress:  52%|██████████████████████                   |  ETA: 0:01:00\u001b[39m\u001b[K"
     ]
    },
    {
     "name": "stderr",
     "output_type": "stream",
     "text": [
      "\r\u001b[32mProgress:  54%|███████████████████████                  |  ETA: 0:00:57\u001b[39m\u001b[K"
     ]
    },
    {
     "name": "stderr",
     "output_type": "stream",
     "text": [
      "\r\u001b[32mProgress:  56%|███████████████████████                  |  ETA: 0:00:55\u001b[39m\u001b[K"
     ]
    },
    {
     "name": "stderr",
     "output_type": "stream",
     "text": [
      "\r\u001b[32mProgress:  58%|████████████████████████                 |  ETA: 0:00:52\u001b[39m\u001b[K"
     ]
    },
    {
     "name": "stderr",
     "output_type": "stream",
     "text": [
      "\r\u001b[32mProgress:  60%|█████████████████████████                |  ETA: 0:00:50\u001b[39m\u001b[K"
     ]
    },
    {
     "name": "stderr",
     "output_type": "stream",
     "text": [
      "\r\u001b[32mProgress:  62%|██████████████████████████               |  ETA: 0:00:47\u001b[39m\u001b[K"
     ]
    },
    {
     "name": "stderr",
     "output_type": "stream",
     "text": [
      "\r\u001b[32mProgress:  64%|███████████████████████████              |  ETA: 0:00:45\u001b[39m\u001b[K"
     ]
    },
    {
     "name": "stderr",
     "output_type": "stream",
     "text": [
      "\r\u001b[32mProgress:  66%|████████████████████████████             |  ETA: 0:00:42\u001b[39m\u001b[K"
     ]
    },
    {
     "name": "stderr",
     "output_type": "stream",
     "text": [
      "\r\u001b[32mProgress:  68%|████████████████████████████             |  ETA: 0:00:40\u001b[39m\u001b[K"
     ]
    },
    {
     "name": "stderr",
     "output_type": "stream",
     "text": [
      "\r\u001b[32mProgress:  70%|█████████████████████████████            |  ETA: 0:00:37\u001b[39m\u001b[K"
     ]
    },
    {
     "name": "stderr",
     "output_type": "stream",
     "text": [
      "\r\u001b[32mProgress:  72%|██████████████████████████████           |  ETA: 0:00:35\u001b[39m\u001b[K"
     ]
    },
    {
     "name": "stderr",
     "output_type": "stream",
     "text": [
      "\r\u001b[32mProgress:  74%|███████████████████████████████          |  ETA: 0:00:32\u001b[39m\u001b[K"
     ]
    },
    {
     "name": "stderr",
     "output_type": "stream",
     "text": [
      "\r\u001b[32mProgress:  76%|████████████████████████████████         |  ETA: 0:00:30\u001b[39m\u001b[K"
     ]
    },
    {
     "name": "stderr",
     "output_type": "stream",
     "text": [
      "\r\u001b[32mProgress:  78%|████████████████████████████████         |  ETA: 0:00:27\u001b[39m\u001b[K"
     ]
    },
    {
     "name": "stderr",
     "output_type": "stream",
     "text": [
      "\r\u001b[32mProgress:  80%|█████████████████████████████████        |  ETA: 0:00:25\u001b[39m\u001b[K"
     ]
    },
    {
     "name": "stderr",
     "output_type": "stream",
     "text": [
      "\r\u001b[32mProgress:  82%|██████████████████████████████████       |  ETA: 0:00:22\u001b[39m\u001b[K"
     ]
    },
    {
     "name": "stderr",
     "output_type": "stream",
     "text": [
      "\r\u001b[32mProgress:  84%|███████████████████████████████████      |  ETA: 0:00:20\u001b[39m\u001b[K"
     ]
    },
    {
     "name": "stderr",
     "output_type": "stream",
     "text": [
      "\r\u001b[32mProgress:  86%|████████████████████████████████████     |  ETA: 0:00:17\u001b[39m\u001b[K"
     ]
    },
    {
     "name": "stderr",
     "output_type": "stream",
     "text": [
      "\r\u001b[32mProgress:  88%|█████████████████████████████████████    |  ETA: 0:00:15\u001b[39m\u001b[K"
     ]
    },
    {
     "name": "stderr",
     "output_type": "stream",
     "text": [
      "\r\u001b[32mProgress:  90%|█████████████████████████████████████    |  ETA: 0:00:12\u001b[39m\u001b[K"
     ]
    },
    {
     "name": "stderr",
     "output_type": "stream",
     "text": [
      "\r\u001b[32mProgress:  92%|██████████████████████████████████████   |  ETA: 0:00:10\u001b[39m\u001b[K"
     ]
    },
    {
     "name": "stderr",
     "output_type": "stream",
     "text": [
      "\r\u001b[32mProgress:  94%|███████████████████████████████████████  |  ETA: 0:00:07\u001b[39m\u001b[K"
     ]
    },
    {
     "name": "stderr",
     "output_type": "stream",
     "text": [
      "\r\u001b[32mProgress:  96%|████████████████████████████████████████ |  ETA: 0:00:05\u001b[39m\u001b[K"
     ]
    },
    {
     "name": "stderr",
     "output_type": "stream",
     "text": [
      "\r\u001b[32mProgress:  98%|█████████████████████████████████████████|  ETA: 0:00:02\u001b[39m\u001b[K"
     ]
    },
    {
     "name": "stderr",
     "output_type": "stream",
     "text": [
      "\r\u001b[32mProgress: 100%|█████████████████████████████████████████| Time: 0:02:02\u001b[39m\u001b[K\n"
     ]
    }
   ],
   "source": [
    "losses = []\n",
    "epochs = 50\n",
    "@showprogress for epoch in 1:epochs \n",
    "                    total_loss = 0.0\n",
    "                    for (x,y) in data_loader\n",
    "                        l = flux_loss(flux_model, x, y)\n",
    "                        total_loss += l\n",
    "                        Flux.train!(flux_loss, flux_model, [(x, y)], opt_state)\n",
    "                    end\n",
    "                    push!(losses,total_loss)\n",
    "end"
   ]
  },
  {
   "cell_type": "code",
   "execution_count": 34,
   "metadata": {},
   "outputs": [
    {
     "data": {
      "image/png": "[encoded data removed]",
      "image/svg+xml": [
       "<?xml version=\"1.0\" encoding=\"utf-8\"?>\n",
       "<svg xmlns=\"http://www.w3.org/2000/svg\" xmlns:xlink=\"http://www.w3.org/1999/xlink\" width=\"600\" height=\"400\" viewBox=\"0 0 2400 1600\">\n",
       "<defs>\n",
       "  <clipPath id=\"clip420\">\n",
       "    <rect x=\"0\" y=\"0\" width=\"2400\" height=\"1600\"/>\n",
       "  </clipPath>\n",
       "</defs>\n",
       "<path clip-path=\"url(#clip420)\" d=\"M0 1600 L2400 1600 L2400 0 L0 0  Z\" fill=\"#ffffff\" fill-rule=\"evenodd\" fill-opacity=\"1\"/>\n",
       "<defs>\n",
       "  <clipPath id=\"clip421\">\n",
       "    <rect x=\"480\" y=\"0\" width=\"1681\" height=\"1600\"/>\n",
       "  </clipPath>\n",
       "</defs>\n",
       "<path clip-path=\"url(#clip420)\" d=\"M141.182 1486.45 L2352.76 1486.45 L2352.76 47.2441 L141.182 47.2441  Z\" fill=\"#ffffff\" fill-rule=\"evenodd\" fill-opacity=\"1\"/>\n",
       "<defs>\n",
       "  <clipPath id=\"clip422\">\n",
       "    <rect x=\"141\" y=\"47\" width=\"2213\" height=\"1440\"/>\n",
       "  </clipPath>\n",
       "</defs>\n",
       "<polyline clip-path=\"url(#clip422)\" style=\"stroke:#000000; stroke-linecap:round; stroke-linejoin:round; stroke-width:2; stroke-opacity:0.1; fill:none\" points=\"161.194,1486.45 161.194,47.2441 \"/>\n",
       "<polyline clip-path=\"url(#clip422)\" style=\"stroke:#000000; stroke-linecap:round; stroke-linejoin:round; stroke-width:2; stroke-opacity:0.1; fill:none\" points=\"586.988,1486.45 586.988,47.2441 \"/>\n",
       "<polyline clip-path=\"url(#clip422)\" style=\"stroke:#000000; stroke-linecap:round; stroke-linejoin:round; stroke-width:2; stroke-opacity:0.1; fill:none\" points=\"1012.78,1486.45 1012.78,47.2441 \"/>\n",
       "<polyline clip-path=\"url(#clip422)\" style=\"stroke:#000000; stroke-linecap:round; stroke-linejoin:round; stroke-width:2; stroke-opacity:0.1; fill:none\" points=\"1438.58,1486.45 1438.58,47.2441 \"/>\n",
       "<polyline clip-path=\"url(#clip422)\" style=\"stroke:#000000; stroke-linecap:round; stroke-linejoin:round; stroke-width:2; stroke-opacity:0.1; fill:none\" points=\"1864.37,1486.45 1864.37,47.2441 \"/>\n",
       "<polyline clip-path=\"url(#clip422)\" style=\"stroke:#000000; stroke-linecap:round; stroke-linejoin:round; stroke-width:2; stroke-opacity:0.1; fill:none\" points=\"2290.16,1486.45 2290.16,47.2441 \"/>\n",
       "<polyline clip-path=\"url(#clip420)\" style=\"stroke:#000000; stroke-linecap:round; stroke-linejoin:round; stroke-width:4; stroke-opacity:1; fill:none\" points=\"141.182,1486.45 2352.76,1486.45 \"/>\n",
       "<polyline clip-path=\"url(#clip420)\" style=\"stroke:#000000; stroke-linecap:round; stroke-linejoin:round; stroke-width:4; stroke-opacity:1; fill:none\" points=\"161.194,1486.45 161.194,1467.55 \"/>\n",
       "<polyline clip-path=\"url(#clip420)\" style=\"stroke:#000000; stroke-linecap:round; stroke-linejoin:round; stroke-width:4; stroke-opacity:1; fill:none\" points=\"586.988,1486.45 586.988,1467.55 \"/>\n",
       "<polyline clip-path=\"url(#clip420)\" style=\"stroke:#000000; stroke-linecap:round; stroke-linejoin:round; stroke-width:4; stroke-opacity:1; fill:none\" points=\"1012.78,1486.45 1012.78,1467.55 \"/>\n",
       "<polyline clip-path=\"url(#clip420)\" style=\"stroke:#000000; stroke-linecap:round; stroke-linejoin:round; stroke-width:4; stroke-opacity:1; fill:none\" points=\"1438.58,1486.45 1438.58,1467.55 \"/>\n",
       "<polyline clip-path=\"url(#clip420)\" style=\"stroke:#000000; stroke-linecap:round; stroke-linejoin:round; stroke-width:4; stroke-opacity:1; fill:none\" points=\"1864.37,1486.45 1864.37,1467.55 \"/>\n",
       "<polyline clip-path=\"url(#clip420)\" style=\"stroke:#000000; stroke-linecap:round; stroke-linejoin:round; stroke-width:4; stroke-opacity:1; fill:none\" points=\"2290.16,1486.45 2290.16,1467.55 \"/>\n",
       "<path clip-path=\"url(#clip420)\" d=\"M161.194 1517.37 Q157.583 1517.37 155.754 1520.93 Q153.949 1524.47 153.949 1531.6 Q153.949 1538.71 155.754 1542.27 Q157.583 1545.82 161.194 1545.82 Q164.828 1545.82 166.634 1542.27 Q168.462 1538.71 168.462 1531.6 Q168.462 1524.47 166.634 1520.93 Q164.828 1517.37 161.194 1517.37 M161.194 1513.66 Q167.004 1513.66 170.06 1518.27 Q173.138 1522.85 173.138 1531.6 Q173.138 1540.33 170.06 1544.94 Q167.004 1549.52 161.194 1549.52 Q155.384 1549.52 152.305 1544.94 Q149.25 1540.33 149.25 1531.6 Q149.25 1522.85 152.305 1518.27 Q155.384 1513.66 161.194 1513.66 Z\" fill=\"#000000\" fill-rule=\"nonzero\" fill-opacity=\"1\" /><path clip-path=\"url(#clip420)\" d=\"M561.676 1544.91 L569.314 1544.91 L569.314 1518.55 L561.004 1520.21 L561.004 1515.95 L569.268 1514.29 L573.944 1514.29 L573.944 1544.91 L581.583 1544.91 L581.583 1548.85 L561.676 1548.85 L561.676 1544.91 Z\" fill=\"#000000\" fill-rule=\"nonzero\" fill-opacity=\"1\" /><path clip-path=\"url(#clip420)\" d=\"M601.027 1517.37 Q597.416 1517.37 595.588 1520.93 Q593.782 1524.47 593.782 1531.6 Q593.782 1538.71 595.588 1542.27 Q597.416 1545.82 601.027 1545.82 Q604.662 1545.82 606.467 1542.27 Q608.296 1538.71 608.296 1531.6 Q608.296 1524.47 606.467 1520.93 Q604.662 1517.37 601.027 1517.37 M601.027 1513.66 Q606.837 1513.66 609.893 1518.27 Q612.972 1522.85 612.972 1531.6 Q612.972 1540.33 609.893 1544.94 Q606.837 1549.52 601.027 1549.52 Q595.217 1549.52 592.138 1544.94 Q589.083 1540.33 589.083 1531.6 Q589.083 1522.85 592.138 1518.27 Q595.217 1513.66 601.027 1513.66 Z\" fill=\"#000000\" fill-rule=\"nonzero\" fill-opacity=\"1\" /><path clip-path=\"url(#clip420)\" d=\"M991.555 1544.91 L1007.87 1544.91 L1007.87 1548.85 L985.93 1548.85 L985.93 1544.91 Q988.592 1542.16 993.176 1537.53 Q997.782 1532.88 998.963 1531.53 Q1001.21 1529.01 1002.09 1527.27 Q1002.99 1525.51 1002.99 1523.82 Q1002.99 1521.07 1001.05 1519.33 Q999.125 1517.6 996.023 1517.6 Q993.824 1517.6 991.37 1518.36 Q988.94 1519.13 986.162 1520.68 L986.162 1515.95 Q988.986 1514.82 991.44 1514.24 Q993.893 1513.66 995.93 1513.66 Q1001.3 1513.66 1004.5 1516.35 Q1007.69 1519.03 1007.69 1523.52 Q1007.69 1525.65 1006.88 1527.57 Q1006.09 1529.47 1003.99 1532.07 Q1003.41 1532.74 1000.31 1535.95 Q997.203 1539.15 991.555 1544.91 Z\" fill=\"#000000\" fill-rule=\"nonzero\" fill-opacity=\"1\" /><path clip-path=\"url(#clip420)\" d=\"M1027.69 1517.37 Q1024.08 1517.37 1022.25 1520.93 Q1020.44 1524.47 1020.44 1531.6 Q1020.44 1538.71 1022.25 1542.27 Q1024.08 1545.82 1027.69 1545.82 Q1031.32 1545.82 1033.13 1542.27 Q1034.96 1538.71 1034.96 1531.6 Q1034.96 1524.47 1033.13 1520.93 Q1031.32 1517.37 1027.69 1517.37 M1027.69 1513.66 Q1033.5 1513.66 1036.56 1518.27 Q1039.63 1522.85 1039.63 1531.6 Q1039.63 1540.33 1036.56 1544.94 Q1033.5 1549.52 1027.69 1549.52 Q1021.88 1549.52 1018.8 1544.94 Q1015.75 1540.33 1015.75 1531.6 Q1015.75 1522.85 1018.8 1518.27 Q1021.88 1513.66 1027.69 1513.66 Z\" fill=\"#000000\" fill-rule=\"nonzero\" fill-opacity=\"1\" /><path clip-path=\"url(#clip420)\" d=\"M1427.42 1530.21 Q1430.78 1530.93 1432.65 1533.2 Q1434.55 1535.47 1434.55 1538.8 Q1434.55 1543.92 1431.03 1546.72 Q1427.51 1549.52 1421.03 1549.52 Q1418.85 1549.52 1416.54 1549.08 Q1414.25 1548.66 1411.79 1547.81 L1411.79 1543.29 Q1413.74 1544.43 1416.05 1545.01 Q1418.37 1545.58 1420.89 1545.58 Q1425.29 1545.58 1427.58 1543.85 Q1429.9 1542.11 1429.9 1538.8 Q1429.9 1535.75 1427.74 1534.03 Q1425.61 1532.3 1421.79 1532.3 L1417.77 1532.3 L1417.77 1528.45 L1421.98 1528.45 Q1425.43 1528.45 1427.26 1527.09 Q1429.09 1525.7 1429.09 1523.11 Q1429.09 1520.45 1427.19 1519.03 Q1425.31 1517.6 1421.79 1517.6 Q1419.87 1517.6 1417.67 1518.01 Q1415.47 1518.43 1412.84 1519.31 L1412.84 1515.14 Q1415.5 1514.4 1417.81 1514.03 Q1420.15 1513.66 1422.21 1513.66 Q1427.53 1513.66 1430.64 1516.09 Q1433.74 1518.5 1433.74 1522.62 Q1433.74 1525.49 1432.09 1527.48 Q1430.45 1529.45 1427.42 1530.21 Z\" fill=\"#000000\" fill-rule=\"nonzero\" fill-opacity=\"1\" /><path clip-path=\"url(#clip420)\" d=\"M1453.41 1517.37 Q1449.8 1517.37 1447.97 1520.93 Q1446.17 1524.47 1446.17 1531.6 Q1446.17 1538.71 1447.97 1542.27 Q1449.8 1545.82 1453.41 1545.82 Q1457.05 1545.82 1458.85 1542.27 Q1460.68 1538.71 1460.68 1531.6 Q1460.68 1524.47 1458.85 1520.93 Q1457.05 1517.37 1453.41 1517.37 M1453.41 1513.66 Q1459.22 1513.66 1462.28 1518.27 Q1465.36 1522.85 1465.36 1531.6 Q1465.36 1540.33 1462.28 1544.94 Q1459.22 1549.52 1453.41 1549.52 Q1447.6 1549.52 1444.53 1544.94 Q1441.47 1540.33 1441.47 1531.6 Q1441.47 1522.85 1444.53 1518.27 Q1447.6 1513.66 1453.41 1513.66 Z\" fill=\"#000000\" fill-rule=\"nonzero\" fill-opacity=\"1\" /><path clip-path=\"url(#clip420)\" d=\"M1852.54 1518.36 L1840.74 1536.81 L1852.54 1536.81 L1852.54 1518.36 M1851.31 1514.29 L1857.19 1514.29 L1857.19 1536.81 L1862.12 1536.81 L1862.12 1540.7 L1857.19 1540.7 L1857.19 1548.85 L1852.54 1548.85 L1852.54 1540.7 L1836.94 1540.7 L1836.94 1536.19 L1851.31 1514.29 Z\" fill=\"#000000\" fill-rule=\"nonzero\" fill-opacity=\"1\" /><path clip-path=\"url(#clip420)\" d=\"M1879.86 1517.37 Q1876.25 1517.37 1874.42 1520.93 Q1872.61 1524.47 1872.61 1531.6 Q1872.61 1538.71 1874.42 1542.27 Q1876.25 1545.82 1879.86 1545.82 Q1883.49 1545.82 1885.3 1542.27 Q1887.12 1538.71 1887.12 1531.6 Q1887.12 1524.47 1885.3 1520.93 Q1883.49 1517.37 1879.86 1517.37 M1879.86 1513.66 Q1885.67 1513.66 1888.72 1518.27 Q1891.8 1522.85 1891.8 1531.6 Q1891.8 1540.33 1888.72 1544.94 Q1885.67 1549.52 1879.86 1549.52 Q1874.05 1549.52 1870.97 1544.94 Q1867.91 1540.33 1867.91 1531.6 Q1867.91 1522.85 1870.97 1518.27 Q1874.05 1513.66 1879.86 1513.66 Z\" fill=\"#000000\" fill-rule=\"nonzero\" fill-opacity=\"1\" /><path clip-path=\"url(#clip420)\" d=\"M2264.86 1514.29 L2283.22 1514.29 L2283.22 1518.22 L2269.15 1518.22 L2269.15 1526.7 Q2270.16 1526.35 2271.18 1526.19 Q2272.2 1526 2273.22 1526 Q2279.01 1526 2282.39 1529.17 Q2285.77 1532.34 2285.77 1537.76 Q2285.77 1543.34 2282.29 1546.44 Q2278.82 1549.52 2272.5 1549.52 Q2270.33 1549.52 2268.06 1549.15 Q2265.81 1548.78 2263.41 1548.04 L2263.41 1543.34 Q2265.49 1544.47 2267.71 1545.03 Q2269.93 1545.58 2272.41 1545.58 Q2276.41 1545.58 2278.75 1543.48 Q2281.09 1541.37 2281.09 1537.76 Q2281.09 1534.15 2278.75 1532.04 Q2276.41 1529.94 2272.41 1529.94 Q2270.53 1529.94 2268.66 1530.35 Q2266.81 1530.77 2264.86 1531.65 L2264.86 1514.29 Z\" fill=\"#000000\" fill-rule=\"nonzero\" fill-opacity=\"1\" /><path clip-path=\"url(#clip420)\" d=\"M2304.98 1517.37 Q2301.37 1517.37 2299.54 1520.93 Q2297.73 1524.47 2297.73 1531.6 Q2297.73 1538.71 2299.54 1542.27 Q2301.37 1545.82 2304.98 1545.82 Q2308.61 1545.82 2310.42 1542.27 Q2312.25 1538.71 2312.25 1531.6 Q2312.25 1524.47 2310.42 1520.93 Q2308.61 1517.37 2304.98 1517.37 M2304.98 1513.66 Q2310.79 1513.66 2313.84 1518.27 Q2316.92 1522.85 2316.92 1531.6 Q2316.92 1540.33 2313.84 1544.94 Q2310.79 1549.52 2304.98 1549.52 Q2299.17 1549.52 2296.09 1544.94 Q2293.03 1540.33 2293.03 1531.6 Q2293.03 1522.85 2296.09 1518.27 Q2299.17 1513.66 2304.98 1513.66 Z\" fill=\"#000000\" fill-rule=\"nonzero\" fill-opacity=\"1\" /><polyline clip-path=\"url(#clip422)\" style=\"stroke:#000000; stroke-linecap:round; stroke-linejoin:round; stroke-width:2; stroke-opacity:0.1; fill:none\" points=\"141.182,1400.1 2352.76,1400.1 \"/>\n",
       "<polyline clip-path=\"url(#clip422)\" style=\"stroke:#000000; stroke-linecap:round; stroke-linejoin:round; stroke-width:2; stroke-opacity:0.1; fill:none\" points=\"141.182,1200 2352.76,1200 \"/>\n",
       "<polyline clip-path=\"url(#clip422)\" style=\"stroke:#000000; stroke-linecap:round; stroke-linejoin:round; stroke-width:2; stroke-opacity:0.1; fill:none\" points=\"141.182,999.906 2352.76,999.906 \"/>\n",
       "<polyline clip-path=\"url(#clip422)\" style=\"stroke:#000000; stroke-linecap:round; stroke-linejoin:round; stroke-width:2; stroke-opacity:0.1; fill:none\" points=\"141.182,799.809 2352.76,799.809 \"/>\n",
       "<polyline clip-path=\"url(#clip422)\" style=\"stroke:#000000; stroke-linecap:round; stroke-linejoin:round; stroke-width:2; stroke-opacity:0.1; fill:none\" points=\"141.182,599.712 2352.76,599.712 \"/>\n",
       "<polyline clip-path=\"url(#clip422)\" style=\"stroke:#000000; stroke-linecap:round; stroke-linejoin:round; stroke-width:2; stroke-opacity:0.1; fill:none\" points=\"141.182,399.615 2352.76,399.615 \"/>\n",
       "<polyline clip-path=\"url(#clip422)\" style=\"stroke:#000000; stroke-linecap:round; stroke-linejoin:round; stroke-width:2; stroke-opacity:0.1; fill:none\" points=\"141.182,199.518 2352.76,199.518 \"/>\n",
       "<polyline clip-path=\"url(#clip420)\" style=\"stroke:#000000; stroke-linecap:round; stroke-linejoin:round; stroke-width:4; stroke-opacity:1; fill:none\" points=\"141.182,1486.45 141.182,47.2441 \"/>\n",
       "<polyline clip-path=\"url(#clip420)\" style=\"stroke:#000000; stroke-linecap:round; stroke-linejoin:round; stroke-width:4; stroke-opacity:1; fill:none\" points=\"141.182,1400.1 160.079,1400.1 \"/>\n",
       "<polyline clip-path=\"url(#clip420)\" style=\"stroke:#000000; stroke-linecap:round; stroke-linejoin:round; stroke-width:4; stroke-opacity:1; fill:none\" points=\"141.182,1200 160.079,1200 \"/>\n",
       "<polyline clip-path=\"url(#clip420)\" style=\"stroke:#000000; stroke-linecap:round; stroke-linejoin:round; stroke-width:4; stroke-opacity:1; fill:none\" points=\"141.182,999.906 160.079,999.906 \"/>\n",
       "<polyline clip-path=\"url(#clip420)\" style=\"stroke:#000000; stroke-linecap:round; stroke-linejoin:round; stroke-width:4; stroke-opacity:1; fill:none\" points=\"141.182,799.809 160.079,799.809 \"/>\n",
       "<polyline clip-path=\"url(#clip420)\" style=\"stroke:#000000; stroke-linecap:round; stroke-linejoin:round; stroke-width:4; stroke-opacity:1; fill:none\" points=\"141.182,599.712 160.079,599.712 \"/>\n",
       "<polyline clip-path=\"url(#clip420)\" style=\"stroke:#000000; stroke-linecap:round; stroke-linejoin:round; stroke-width:4; stroke-opacity:1; fill:none\" points=\"141.182,399.615 160.079,399.615 \"/>\n",
       "<polyline clip-path=\"url(#clip420)\" style=\"stroke:#000000; stroke-linecap:round; stroke-linejoin:round; stroke-width:4; stroke-opacity:1; fill:none\" points=\"141.182,199.518 160.079,199.518 \"/>\n",
       "<path clip-path=\"url(#clip420)\" d=\"M57.7513 1413.44 L74.0707 1413.44 L74.0707 1417.38 L52.1264 1417.38 L52.1264 1413.44 Q54.7884 1410.69 59.3717 1406.06 Q63.9782 1401.41 65.1587 1400.06 Q67.4041 1397.54 68.2837 1395.81 Q69.1865 1394.05 69.1865 1392.36 Q69.1865 1389.6 67.242 1387.87 Q65.3208 1386.13 62.2189 1386.13 Q60.0199 1386.13 57.5662 1386.89 Q55.1356 1387.66 52.3579 1389.21 L52.3579 1384.49 Q55.1819 1383.35 57.6356 1382.77 Q60.0893 1382.19 62.1263 1382.19 Q67.4967 1382.19 70.6911 1384.88 Q73.8855 1387.56 73.8855 1392.06 Q73.8855 1394.18 73.0753 1396.11 Q72.2883 1398 70.1818 1400.6 Q69.6031 1401.27 66.5013 1404.49 Q63.3995 1407.68 57.7513 1413.44 Z\" fill=\"#000000\" fill-rule=\"nonzero\" fill-opacity=\"1\" /><path clip-path=\"url(#clip420)\" d=\"M98.0521 1398.75 Q101.409 1399.46 103.284 1401.73 Q105.182 1404 105.182 1407.33 Q105.182 1412.45 101.663 1415.25 Q98.1447 1418.05 91.6632 1418.05 Q89.4873 1418.05 87.1725 1417.61 Q84.8808 1417.19 82.4271 1416.34 L82.4271 1411.82 Q84.3716 1412.96 86.6864 1413.54 Q89.0012 1414.12 91.5243 1414.12 Q95.9224 1414.12 98.2141 1412.38 Q100.529 1410.64 100.529 1407.33 Q100.529 1404.28 98.3761 1402.56 Q96.2465 1400.83 92.4271 1400.83 L88.3993 1400.83 L88.3993 1396.99 L92.6123 1396.99 Q96.0613 1396.99 97.89 1395.62 Q99.7187 1394.23 99.7187 1391.64 Q99.7187 1388.98 97.8206 1387.56 Q95.9456 1386.13 92.4271 1386.13 Q90.5058 1386.13 88.3067 1386.55 Q86.1077 1386.96 83.4688 1387.84 L83.4688 1383.68 Q86.1308 1382.94 88.4456 1382.56 Q90.7836 1382.19 92.8438 1382.19 Q98.1678 1382.19 101.27 1384.62 Q104.371 1387.03 104.371 1391.15 Q104.371 1394.02 102.728 1396.01 Q101.084 1397.98 98.0521 1398.75 Z\" fill=\"#000000\" fill-rule=\"nonzero\" fill-opacity=\"1\" /><path clip-path=\"url(#clip420)\" d=\"M56.6171 1213.35 L72.9365 1213.35 L72.9365 1217.28 L50.9921 1217.28 L50.9921 1213.35 Q53.6541 1210.59 58.2375 1205.96 Q62.8439 1201.31 64.0245 1199.97 Q66.2698 1197.44 67.1494 1195.71 Q68.0522 1193.95 68.0522 1192.26 Q68.0522 1189.5 66.1078 1187.77 Q64.1865 1186.03 61.0847 1186.03 Q58.8856 1186.03 56.4319 1186.8 Q54.0014 1187.56 51.2236 1189.11 L51.2236 1184.39 Q54.0477 1183.25 56.5014 1182.68 Q58.955 1182.1 60.9921 1182.1 Q66.3624 1182.1 69.5568 1184.78 Q72.7513 1187.47 72.7513 1191.96 Q72.7513 1194.09 71.9411 1196.01 Q71.1541 1197.91 69.0476 1200.5 Q68.4689 1201.17 65.367 1204.39 Q62.2652 1207.58 56.6171 1213.35 Z\" fill=\"#000000\" fill-rule=\"nonzero\" fill-opacity=\"1\" /><path clip-path=\"url(#clip420)\" d=\"M95.5984 1186.8 L83.7929 1205.25 L95.5984 1205.25 L95.5984 1186.8 M94.3715 1182.72 L100.251 1182.72 L100.251 1205.25 L105.182 1205.25 L105.182 1209.13 L100.251 1209.13 L100.251 1217.28 L95.5984 1217.28 L95.5984 1209.13 L79.9966 1209.13 L79.9966 1204.62 L94.3715 1182.72 Z\" fill=\"#000000\" fill-rule=\"nonzero\" fill-opacity=\"1\" /><path clip-path=\"url(#clip420)\" d=\"M58.0986 1013.25 L74.4179 1013.25 L74.4179 1017.19 L52.4736 1017.19 L52.4736 1013.25 Q55.1356 1010.5 59.7189 1005.87 Q64.3254 1001.21 65.5059 999.871 Q67.7513 997.348 68.6309 995.612 Q69.5337 993.852 69.5337 992.163 Q69.5337 989.408 67.5893 987.672 Q65.668 985.936 62.5661 985.936 Q60.3671 985.936 57.9134 986.7 Q55.4828 987.464 52.7051 989.014 L52.7051 984.292 Q55.5291 983.158 57.9828 982.579 Q60.4365 982.001 62.4735 982.001 Q67.8439 982.001 71.0383 984.686 Q74.2327 987.371 74.2327 991.862 Q74.2327 993.991 73.4226 995.913 Q72.6355 997.811 70.5291 1000.4 Q69.9504 1001.07 66.8485 1004.29 Q63.7467 1007.49 58.0986 1013.25 Z\" fill=\"#000000\" fill-rule=\"nonzero\" fill-opacity=\"1\" /><path clip-path=\"url(#clip420)\" d=\"M84.279 982.626 L102.635 982.626 L102.635 986.561 L88.5614 986.561 L88.5614 995.033 Q89.5799 994.686 90.5984 994.524 Q91.6169 994.339 92.6354 994.339 Q98.4224 994.339 101.802 997.51 Q105.182 1000.68 105.182 1006.1 Q105.182 1011.68 101.709 1014.78 Q98.2372 1017.86 91.9178 1017.86 Q89.7419 1017.86 87.4734 1017.49 Q85.2281 1017.12 82.8207 1016.38 L82.8207 1011.68 Q84.904 1012.81 87.1262 1013.37 Q89.3484 1013.92 91.8252 1013.92 Q95.8298 1013.92 98.1678 1011.82 Q100.506 1009.71 100.506 1006.1 Q100.506 1002.49 98.1678 1000.38 Q95.8298 998.274 91.8252 998.274 Q89.9503 998.274 88.0753 998.69 Q86.2234 999.107 84.279 999.987 L84.279 982.626 Z\" fill=\"#000000\" fill-rule=\"nonzero\" fill-opacity=\"1\" /><path clip-path=\"url(#clip420)\" d=\"M56.9412 813.154 L73.2605 813.154 L73.2605 817.089 L51.3162 817.089 L51.3162 813.154 Q53.9782 810.399 58.5615 805.769 Q63.168 801.117 64.3485 799.774 Q66.5939 797.251 67.4735 795.515 Q68.3763 793.756 68.3763 792.066 Q68.3763 789.311 66.4319 787.575 Q64.5106 785.839 61.4087 785.839 Q59.2097 785.839 56.756 786.603 Q54.3254 787.367 51.5477 788.918 L51.5477 784.195 Q54.3717 783.061 56.8254 782.483 Q59.2791 781.904 61.3161 781.904 Q66.6865 781.904 69.8809 784.589 Q73.0753 787.274 73.0753 791.765 Q73.0753 793.894 72.2652 795.816 Q71.4781 797.714 69.3717 800.306 Q68.793 800.978 65.6911 804.195 Q62.5893 807.39 56.9412 813.154 Z\" fill=\"#000000\" fill-rule=\"nonzero\" fill-opacity=\"1\" /><path clip-path=\"url(#clip420)\" d=\"M93.6539 797.945 Q90.5058 797.945 88.654 800.098 Q86.8253 802.251 86.8253 806.001 Q86.8253 809.728 88.654 811.904 Q90.5058 814.056 93.6539 814.056 Q96.8021 814.056 98.6308 811.904 Q100.483 809.728 100.483 806.001 Q100.483 802.251 98.6308 800.098 Q96.8021 797.945 93.6539 797.945 M102.936 783.293 L102.936 787.552 Q101.177 786.719 99.3715 786.279 Q97.5891 785.839 95.8298 785.839 Q91.2002 785.839 88.7466 788.964 Q86.316 792.089 85.9688 798.408 Q87.3345 796.394 89.3947 795.33 Q91.4549 794.242 93.9317 794.242 Q99.14 794.242 102.149 797.413 Q105.182 800.561 105.182 806.001 Q105.182 811.325 102.034 814.543 Q98.8854 817.76 93.6539 817.76 Q87.6586 817.76 84.4873 813.177 Q81.316 808.57 81.316 799.844 Q81.316 791.649 85.2049 786.788 Q89.0938 781.904 95.6447 781.904 Q97.4039 781.904 99.1863 782.251 Q100.992 782.598 102.936 783.293 Z\" fill=\"#000000\" fill-rule=\"nonzero\" fill-opacity=\"1\" /><path clip-path=\"url(#clip420)\" d=\"M58.006 613.057 L74.3253 613.057 L74.3253 616.992 L52.381 616.992 L52.381 613.057 Q55.043 610.302 59.6263 605.673 Q64.2328 601.02 65.4133 599.677 Q67.6587 597.154 68.5383 595.418 Q69.4411 593.659 69.4411 591.969 Q69.4411 589.214 67.4967 587.478 Q65.5754 585.742 62.4735 585.742 Q60.2745 585.742 57.8208 586.506 Q55.3903 587.27 52.6125 588.821 L52.6125 584.099 Q55.4365 582.964 57.8902 582.386 Q60.3439 581.807 62.381 581.807 Q67.7513 581.807 70.9457 584.492 Q74.1402 587.177 74.1402 591.668 Q74.1402 593.798 73.33 595.719 Q72.5429 597.617 70.4365 600.21 Q69.8578 600.881 66.7559 604.099 Q63.6541 607.293 58.006 613.057 Z\" fill=\"#000000\" fill-rule=\"nonzero\" fill-opacity=\"1\" /><path clip-path=\"url(#clip420)\" d=\"M82.9595 582.432 L105.182 582.432 L105.182 584.423 L92.6354 616.992 L87.7512 616.992 L99.5567 586.367 L82.9595 586.367 L82.9595 582.432 Z\" fill=\"#000000\" fill-rule=\"nonzero\" fill-opacity=\"1\" /><path clip-path=\"url(#clip420)\" d=\"M57.1958 412.96 L73.5152 412.96 L73.5152 416.895 L51.5708 416.895 L51.5708 412.96 Q54.2328 410.205 58.8162 405.576 Q63.4226 400.923 64.6032 399.58 Q66.8485 397.057 67.7281 395.321 Q68.6309 393.562 68.6309 391.872 Q68.6309 389.118 66.6865 387.381 Q64.7652 385.645 61.6634 385.645 Q59.4643 385.645 57.0106 386.409 Q54.5801 387.173 51.8023 388.724 L51.8023 384.002 Q54.6264 382.868 57.0801 382.289 Q59.5337 381.71 61.5708 381.71 Q66.9411 381.71 70.1355 384.395 Q73.33 387.08 73.33 391.571 Q73.33 393.701 72.5198 395.622 Q71.7328 397.52 69.6263 400.113 Q69.0476 400.784 65.9457 404.002 Q62.8439 407.196 57.1958 412.96 Z\" fill=\"#000000\" fill-rule=\"nonzero\" fill-opacity=\"1\" /><path clip-path=\"url(#clip420)\" d=\"M93.3299 400.483 Q89.9965 400.483 88.0753 402.266 Q86.1771 404.048 86.1771 407.173 Q86.1771 410.298 88.0753 412.08 Q89.9965 413.863 93.3299 413.863 Q96.6632 413.863 98.5845 412.08 Q100.506 410.275 100.506 407.173 Q100.506 404.048 98.5845 402.266 Q96.6863 400.483 93.3299 400.483 M88.654 398.492 Q85.6447 397.752 83.9549 395.692 Q82.2883 393.631 82.2883 390.668 Q82.2883 386.525 85.2281 384.118 Q88.191 381.71 93.3299 381.71 Q98.4919 381.71 101.432 384.118 Q104.371 386.525 104.371 390.668 Q104.371 393.631 102.682 395.692 Q101.015 397.752 98.0289 398.492 Q101.409 399.279 103.284 401.571 Q105.182 403.863 105.182 407.173 Q105.182 412.196 102.103 414.881 Q99.0474 417.566 93.3299 417.566 Q87.6123 417.566 84.5336 414.881 Q81.4781 412.196 81.4781 407.173 Q81.4781 403.863 83.3762 401.571 Q85.2743 399.279 88.654 398.492 M86.941 391.108 Q86.941 393.793 88.6077 395.298 Q90.2975 396.803 93.3299 396.803 Q96.3391 396.803 98.0289 395.298 Q99.7419 393.793 99.7419 391.108 Q99.7419 388.423 98.0289 386.918 Q96.3391 385.414 93.3299 385.414 Q90.2975 385.414 88.6077 386.918 Q86.941 388.423 86.941 391.108 Z\" fill=\"#000000\" fill-rule=\"nonzero\" fill-opacity=\"1\" /><path clip-path=\"url(#clip420)\" d=\"M57.2884 212.863 L73.6077 212.863 L73.6077 216.798 L51.6634 216.798 L51.6634 212.863 Q54.3254 210.109 58.9088 205.479 Q63.5152 200.826 64.6958 199.484 Q66.9411 196.96 67.8207 195.224 Q68.7235 193.465 68.7235 191.775 Q68.7235 189.021 66.7791 187.285 Q64.8578 185.548 61.756 185.548 Q59.5569 185.548 57.1032 186.312 Q54.6727 187.076 51.8949 188.627 L51.8949 183.905 Q54.719 182.771 57.1726 182.192 Q59.6263 181.613 61.6634 181.613 Q67.0337 181.613 70.2281 184.298 Q73.4226 186.984 73.4226 191.474 Q73.4226 193.604 72.6124 195.525 Q71.8253 197.423 69.7189 200.016 Q69.1402 200.687 66.0383 203.905 Q62.9365 207.099 57.2884 212.863 Z\" fill=\"#000000\" fill-rule=\"nonzero\" fill-opacity=\"1\" /><path clip-path=\"url(#clip420)\" d=\"M83.5614 216.081 L83.5614 211.821 Q85.3206 212.655 87.1262 213.095 Q88.9317 213.534 90.6678 213.534 Q95.2974 213.534 97.728 210.433 Q100.182 207.308 100.529 200.965 Q99.1863 202.956 97.1261 204.021 Q95.066 205.085 92.566 205.085 Q87.3808 205.085 84.3484 201.96 Q81.3392 198.812 81.3392 193.373 Q81.3392 188.048 84.4873 184.831 Q87.6354 181.613 92.8669 181.613 Q98.8622 181.613 102.01 186.22 Q105.182 190.803 105.182 199.553 Q105.182 207.724 101.293 212.609 Q97.4271 217.47 90.8762 217.47 Q89.1169 217.47 87.3114 217.122 Q85.5058 216.775 83.5614 216.081 M92.8669 201.428 Q96.015 201.428 97.8437 199.275 Q99.6956 197.122 99.6956 193.373 Q99.6956 189.646 97.8437 187.493 Q96.015 185.317 92.8669 185.317 Q89.7188 185.317 87.8669 187.493 Q86.0382 189.646 86.0382 193.373 Q86.0382 197.122 87.8669 199.275 Q89.7188 201.428 92.8669 201.428 Z\" fill=\"#000000\" fill-rule=\"nonzero\" fill-opacity=\"1\" /><polyline clip-path=\"url(#clip422)\" style=\"stroke:#009af9; stroke-linecap:round; stroke-linejoin:round; stroke-width:4; stroke-opacity:1; fill:none\" points=\"203.773,87.9763 246.353,1078.97 288.932,1125.76 331.512,1168.94 374.091,1203.09 416.67,1230.06 459.25,1254.66 501.829,1277.76 544.409,1302.69 586.988,1316.86 629.567,1326.25 672.147,1336.08 714.726,1342.58 757.306,1352.84 799.885,1365.11 842.464,1372.28 885.044,1370.74 927.623,1387.49 970.203,1387.64 1012.78,1389.67 1055.36,1401.76 1097.94,1402.46 1140.52,1403.28 1183.1,1405.35 1225.68,1403.95 1268.26,1416.43 1310.84,1410.95 1353.42,1424.86 1396,1407.67 1438.58,1407.8 1481.16,1415.34 1523.73,1412.93 1566.31,1423.1 1608.89,1418.1 1651.47,1425.67 1694.05,1427.16 1736.63,1429.41 1779.21,1426.58 1821.79,1428.21 1864.37,1418.28 1906.95,1431.76 1949.53,1424.81 1992.11,1429.93 2034.69,1445.72 2077.27,1428.95 2119.85,1438.76 2162.43,1428.94 2205.01,1438.35 2247.58,1435.05 2290.16,1432.39 \"/>\n",
       "<path clip-path=\"url(#clip420)\" d=\"M2005.45 198.898 L2279.04 198.898 L2279.04 95.2176 L2005.45 95.2176  Z\" fill=\"#ffffff\" fill-rule=\"evenodd\" fill-opacity=\"1\"/>\n",
       "<polyline clip-path=\"url(#clip420)\" style=\"stroke:#000000; stroke-linecap:round; stroke-linejoin:round; stroke-width:4; stroke-opacity:1; fill:none\" points=\"2005.45,198.898 2279.04,198.898 2279.04,95.2176 2005.45,95.2176 2005.45,198.898 \"/>\n",
       "<polyline clip-path=\"url(#clip420)\" style=\"stroke:#009af9; stroke-linecap:round; stroke-linejoin:round; stroke-width:4; stroke-opacity:1; fill:none\" points=\"2030.02,147.058 2177.46,147.058 \"/>\n",
       "<path clip-path=\"url(#clip420)\" d=\"M2215.88 166.745 Q2214.07 171.375 2212.36 172.787 Q2210.64 174.199 2207.77 174.199 L2204.37 174.199 L2204.37 170.634 L2206.87 170.634 Q2208.63 170.634 2209.6 169.8 Q2210.58 168.967 2211.76 165.865 L2212.52 163.921 L2202.03 138.412 L2206.55 138.412 L2214.65 158.689 L2222.75 138.412 L2227.26 138.412 L2215.88 166.745 Z\" fill=\"#000000\" fill-rule=\"nonzero\" fill-opacity=\"1\" /><path clip-path=\"url(#clip420)\" d=\"M2234.56 160.402 L2242.2 160.402 L2242.2 134.037 L2233.89 135.703 L2233.89 131.444 L2242.15 129.778 L2246.82 129.778 L2246.82 160.402 L2254.46 160.402 L2254.46 164.338 L2234.56 164.338 L2234.56 160.402 Z\" fill=\"#000000\" fill-rule=\"nonzero\" fill-opacity=\"1\" /></svg>\n"
      ],
      "text/html": [
       "<?xml version=\"1.0\" encoding=\"utf-8\"?>\n",
       "<svg xmlns=\"http://www.w3.org/2000/svg\" xmlns:xlink=\"http://www.w3.org/1999/xlink\" width=\"600\" height=\"400\" viewBox=\"0 0 2400 1600\">\n",
       "<defs>\n",
       "  <clipPath id=\"clip470\">\n",
       "    <rect x=\"0\" y=\"0\" width=\"2400\" height=\"1600\"/>\n",
       "  </clipPath>\n",
       "</defs>\n",
       "<path clip-path=\"url(#clip470)\" d=\"M0 1600 L2400 1600 L2400 0 L0 0  Z\" fill=\"#ffffff\" fill-rule=\"evenodd\" fill-opacity=\"1\"/>\n",
       "<defs>\n",
       "  <clipPath id=\"clip471\">\n",
       "    <rect x=\"480\" y=\"0\" width=\"1681\" height=\"1600\"/>\n",
       "  </clipPath>\n",
       "</defs>\n",
       "<path clip-path=\"url(#clip470)\" d=\"M141.182 1486.45 L2352.76 1486.45 L2352.76 47.2441 L141.182 47.2441  Z\" fill=\"#ffffff\" fill-rule=\"evenodd\" fill-opacity=\"1\"/>\n",
       "<defs>\n",
       "  <clipPath id=\"clip472\">\n",
       "    <rect x=\"141\" y=\"47\" width=\"2213\" height=\"1440\"/>\n",
       "  </clipPath>\n",
       "</defs>\n",
       "<polyline clip-path=\"url(#clip472)\" style=\"stroke:#000000; stroke-linecap:round; stroke-linejoin:round; stroke-width:2; stroke-opacity:0.1; fill:none\" points=\"161.194,1486.45 161.194,47.2441 \"/>\n",
       "<polyline clip-path=\"url(#clip472)\" style=\"stroke:#000000; stroke-linecap:round; stroke-linejoin:round; stroke-width:2; stroke-opacity:0.1; fill:none\" points=\"586.988,1486.45 586.988,47.2441 \"/>\n",
       "<polyline clip-path=\"url(#clip472)\" style=\"stroke:#000000; stroke-linecap:round; stroke-linejoin:round; stroke-width:2; stroke-opacity:0.1; fill:none\" points=\"1012.78,1486.45 1012.78,47.2441 \"/>\n",
       "<polyline clip-path=\"url(#clip472)\" style=\"stroke:#000000; stroke-linecap:round; stroke-linejoin:round; stroke-width:2; stroke-opacity:0.1; fill:none\" points=\"1438.58,1486.45 1438.58,47.2441 \"/>\n",
       "<polyline clip-path=\"url(#clip472)\" style=\"stroke:#000000; stroke-linecap:round; stroke-linejoin:round; stroke-width:2; stroke-opacity:0.1; fill:none\" points=\"1864.37,1486.45 1864.37,47.2441 \"/>\n",
       "<polyline clip-path=\"url(#clip472)\" style=\"stroke:#000000; stroke-linecap:round; stroke-linejoin:round; stroke-width:2; stroke-opacity:0.1; fill:none\" points=\"2290.16,1486.45 2290.16,47.2441 \"/>\n",
       "<polyline clip-path=\"url(#clip470)\" style=\"stroke:#000000; stroke-linecap:round; stroke-linejoin:round; stroke-width:4; stroke-opacity:1; fill:none\" points=\"141.182,1486.45 2352.76,1486.45 \"/>\n",
       "<polyline clip-path=\"url(#clip470)\" style=\"stroke:#000000; stroke-linecap:round; stroke-linejoin:round; stroke-width:4; stroke-opacity:1; fill:none\" points=\"161.194,1486.45 161.194,1467.55 \"/>\n",
       "<polyline clip-path=\"url(#clip470)\" style=\"stroke:#000000; stroke-linecap:round; stroke-linejoin:round; stroke-width:4; stroke-opacity:1; fill:none\" points=\"586.988,1486.45 586.988,1467.55 \"/>\n",
       "<polyline clip-path=\"url(#clip470)\" style=\"stroke:#000000; stroke-linecap:round; stroke-linejoin:round; stroke-width:4; stroke-opacity:1; fill:none\" points=\"1012.78,1486.45 1012.78,1467.55 \"/>\n",
       "<polyline clip-path=\"url(#clip470)\" style=\"stroke:#000000; stroke-linecap:round; stroke-linejoin:round; stroke-width:4; stroke-opacity:1; fill:none\" points=\"1438.58,1486.45 1438.58,1467.55 \"/>\n",
       "<polyline clip-path=\"url(#clip470)\" style=\"stroke:#000000; stroke-linecap:round; stroke-linejoin:round; stroke-width:4; stroke-opacity:1; fill:none\" points=\"1864.37,1486.45 1864.37,1467.55 \"/>\n",
       "<polyline clip-path=\"url(#clip470)\" style=\"stroke:#000000; stroke-linecap:round; stroke-linejoin:round; stroke-width:4; stroke-opacity:1; fill:none\" points=\"2290.16,1486.45 2290.16,1467.55 \"/>\n",
       "<path clip-path=\"url(#clip470)\" d=\"M161.194 1517.37 Q157.583 1517.37 155.754 1520.93 Q153.949 1524.47 153.949 1531.6 Q153.949 1538.71 155.754 1542.27 Q157.583 1545.82 161.194 1545.82 Q164.828 1545.82 166.634 1542.27 Q168.462 1538.71 168.462 1531.6 Q168.462 1524.47 166.634 1520.93 Q164.828 1517.37 161.194 1517.37 M161.194 1513.66 Q167.004 1513.66 170.06 1518.27 Q173.138 1522.85 173.138 1531.6 Q173.138 1540.33 170.06 1544.94 Q167.004 1549.52 161.194 1549.52 Q155.384 1549.52 152.305 1544.94 Q149.25 1540.33 149.25 1531.6 Q149.25 1522.85 152.305 1518.27 Q155.384 1513.66 161.194 1513.66 Z\" fill=\"#000000\" fill-rule=\"nonzero\" fill-opacity=\"1\" /><path clip-path=\"url(#clip470)\" d=\"M561.676 1544.91 L569.314 1544.91 L569.314 1518.55 L561.004 1520.21 L561.004 1515.95 L569.268 1514.29 L573.944 1514.29 L573.944 1544.91 L581.583 1544.91 L581.583 1548.85 L561.676 1548.85 L561.676 1544.91 Z\" fill=\"#000000\" fill-rule=\"nonzero\" fill-opacity=\"1\" /><path clip-path=\"url(#clip470)\" d=\"M601.027 1517.37 Q597.416 1517.37 595.588 1520.93 Q593.782 1524.47 593.782 1531.6 Q593.782 1538.71 595.588 1542.27 Q597.416 1545.82 601.027 1545.82 Q604.662 1545.82 606.467 1542.27 Q608.296 1538.71 608.296 1531.6 Q608.296 1524.47 606.467 1520.93 Q604.662 1517.37 601.027 1517.37 M601.027 1513.66 Q606.837 1513.66 609.893 1518.27 Q612.972 1522.85 612.972 1531.6 Q612.972 1540.33 609.893 1544.94 Q606.837 1549.52 601.027 1549.52 Q595.217 1549.52 592.138 1544.94 Q589.083 1540.33 589.083 1531.6 Q589.083 1522.85 592.138 1518.27 Q595.217 1513.66 601.027 1513.66 Z\" fill=\"#000000\" fill-rule=\"nonzero\" fill-opacity=\"1\" /><path clip-path=\"url(#clip470)\" d=\"M991.555 1544.91 L1007.87 1544.91 L1007.87 1548.85 L985.93 1548.85 L985.93 1544.91 Q988.592 1542.16 993.176 1537.53 Q997.782 1532.88 998.963 1531.53 Q1001.21 1529.01 1002.09 1527.27 Q1002.99 1525.51 1002.99 1523.82 Q1002.99 1521.07 1001.05 1519.33 Q999.125 1517.6 996.023 1517.6 Q993.824 1517.6 991.37 1518.36 Q988.94 1519.13 986.162 1520.68 L986.162 1515.95 Q988.986 1514.82 991.44 1514.24 Q993.893 1513.66 995.93 1513.66 Q1001.3 1513.66 1004.5 1516.35 Q1007.69 1519.03 1007.69 1523.52 Q1007.69 1525.65 1006.88 1527.57 Q1006.09 1529.47 1003.99 1532.07 Q1003.41 1532.74 1000.31 1535.95 Q997.203 1539.15 991.555 1544.91 Z\" fill=\"#000000\" fill-rule=\"nonzero\" fill-opacity=\"1\" /><path clip-path=\"url(#clip470)\" d=\"M1027.69 1517.37 Q1024.08 1517.37 1022.25 1520.93 Q1020.44 1524.47 1020.44 1531.6 Q1020.44 1538.71 1022.25 1542.27 Q1024.08 1545.82 1027.69 1545.82 Q1031.32 1545.82 1033.13 1542.27 Q1034.96 1538.71 1034.96 1531.6 Q1034.96 1524.47 1033.13 1520.93 Q1031.32 1517.37 1027.69 1517.37 M1027.69 1513.66 Q1033.5 1513.66 1036.56 1518.27 Q1039.63 1522.85 1039.63 1531.6 Q1039.63 1540.33 1036.56 1544.94 Q1033.5 1549.52 1027.69 1549.52 Q1021.88 1549.52 1018.8 1544.94 Q1015.75 1540.33 1015.75 1531.6 Q1015.75 1522.85 1018.8 1518.27 Q1021.88 1513.66 1027.69 1513.66 Z\" fill=\"#000000\" fill-rule=\"nonzero\" fill-opacity=\"1\" /><path clip-path=\"url(#clip470)\" d=\"M1427.42 1530.21 Q1430.78 1530.93 1432.65 1533.2 Q1434.55 1535.47 1434.55 1538.8 Q1434.55 1543.92 1431.03 1546.72 Q1427.51 1549.52 1421.03 1549.52 Q1418.85 1549.52 1416.54 1549.08 Q1414.25 1548.66 1411.79 1547.81 L1411.79 1543.29 Q1413.74 1544.43 1416.05 1545.01 Q1418.37 1545.58 1420.89 1545.58 Q1425.29 1545.58 1427.58 1543.85 Q1429.9 1542.11 1429.9 1538.8 Q1429.9 1535.75 1427.74 1534.03 Q1425.61 1532.3 1421.79 1532.3 L1417.77 1532.3 L1417.77 1528.45 L1421.98 1528.45 Q1425.43 1528.45 1427.26 1527.09 Q1429.09 1525.7 1429.09 1523.11 Q1429.09 1520.45 1427.19 1519.03 Q1425.31 1517.6 1421.79 1517.6 Q1419.87 1517.6 1417.67 1518.01 Q1415.47 1518.43 1412.84 1519.31 L1412.84 1515.14 Q1415.5 1514.4 1417.81 1514.03 Q1420.15 1513.66 1422.21 1513.66 Q1427.53 1513.66 1430.64 1516.09 Q1433.74 1518.5 1433.74 1522.62 Q1433.74 1525.49 1432.09 1527.48 Q1430.45 1529.45 1427.42 1530.21 Z\" fill=\"#000000\" fill-rule=\"nonzero\" fill-opacity=\"1\" /><path clip-path=\"url(#clip470)\" d=\"M1453.41 1517.37 Q1449.8 1517.37 1447.97 1520.93 Q1446.17 1524.47 1446.17 1531.6 Q1446.17 1538.71 1447.97 1542.27 Q1449.8 1545.82 1453.41 1545.82 Q1457.05 1545.82 1458.85 1542.27 Q1460.68 1538.71 1460.68 1531.6 Q1460.68 1524.47 1458.85 1520.93 Q1457.05 1517.37 1453.41 1517.37 M1453.41 1513.66 Q1459.22 1513.66 1462.28 1518.27 Q1465.36 1522.85 1465.36 1531.6 Q1465.36 1540.33 1462.28 1544.94 Q1459.22 1549.52 1453.41 1549.52 Q1447.6 1549.52 1444.53 1544.94 Q1441.47 1540.33 1441.47 1531.6 Q1441.47 1522.85 1444.53 1518.27 Q1447.6 1513.66 1453.41 1513.66 Z\" fill=\"#000000\" fill-rule=\"nonzero\" fill-opacity=\"1\" /><path clip-path=\"url(#clip470)\" d=\"M1852.54 1518.36 L1840.74 1536.81 L1852.54 1536.81 L1852.54 1518.36 M1851.31 1514.29 L1857.19 1514.29 L1857.19 1536.81 L1862.12 1536.81 L1862.12 1540.7 L1857.19 1540.7 L1857.19 1548.85 L1852.54 1548.85 L1852.54 1540.7 L1836.94 1540.7 L1836.94 1536.19 L1851.31 1514.29 Z\" fill=\"#000000\" fill-rule=\"nonzero\" fill-opacity=\"1\" /><path clip-path=\"url(#clip470)\" d=\"M1879.86 1517.37 Q1876.25 1517.37 1874.42 1520.93 Q1872.61 1524.47 1872.61 1531.6 Q1872.61 1538.71 1874.42 1542.27 Q1876.25 1545.82 1879.86 1545.82 Q1883.49 1545.82 1885.3 1542.27 Q1887.12 1538.71 1887.12 1531.6 Q1887.12 1524.47 1885.3 1520.93 Q1883.49 1517.37 1879.86 1517.37 M1879.86 1513.66 Q1885.67 1513.66 1888.72 1518.27 Q1891.8 1522.85 1891.8 1531.6 Q1891.8 1540.33 1888.72 1544.94 Q1885.67 1549.52 1879.86 1549.52 Q1874.05 1549.52 1870.97 1544.94 Q1867.91 1540.33 1867.91 1531.6 Q1867.91 1522.85 1870.97 1518.27 Q1874.05 1513.66 1879.86 1513.66 Z\" fill=\"#000000\" fill-rule=\"nonzero\" fill-opacity=\"1\" /><path clip-path=\"url(#clip470)\" d=\"M2264.86 1514.29 L2283.22 1514.29 L2283.22 1518.22 L2269.15 1518.22 L2269.15 1526.7 Q2270.16 1526.35 2271.18 1526.19 Q2272.2 1526 2273.22 1526 Q2279.01 1526 2282.39 1529.17 Q2285.77 1532.34 2285.77 1537.76 Q2285.77 1543.34 2282.29 1546.44 Q2278.82 1549.52 2272.5 1549.52 Q2270.33 1549.52 2268.06 1549.15 Q2265.81 1548.78 2263.41 1548.04 L2263.41 1543.34 Q2265.49 1544.47 2267.71 1545.03 Q2269.93 1545.58 2272.41 1545.58 Q2276.41 1545.58 2278.75 1543.48 Q2281.09 1541.37 2281.09 1537.76 Q2281.09 1534.15 2278.75 1532.04 Q2276.41 1529.94 2272.41 1529.94 Q2270.53 1529.94 2268.66 1530.35 Q2266.81 1530.77 2264.86 1531.65 L2264.86 1514.29 Z\" fill=\"#000000\" fill-rule=\"nonzero\" fill-opacity=\"1\" /><path clip-path=\"url(#clip470)\" d=\"M2304.98 1517.37 Q2301.37 1517.37 2299.54 1520.93 Q2297.73 1524.47 2297.73 1531.6 Q2297.73 1538.71 2299.54 1542.27 Q2301.37 1545.82 2304.98 1545.82 Q2308.61 1545.82 2310.42 1542.27 Q2312.25 1538.71 2312.25 1531.6 Q2312.25 1524.47 2310.42 1520.93 Q2308.61 1517.37 2304.98 1517.37 M2304.98 1513.66 Q2310.79 1513.66 2313.84 1518.27 Q2316.92 1522.85 2316.92 1531.6 Q2316.92 1540.33 2313.84 1544.94 Q2310.79 1549.52 2304.98 1549.52 Q2299.17 1549.52 2296.09 1544.94 Q2293.03 1540.33 2293.03 1531.6 Q2293.03 1522.85 2296.09 1518.27 Q2299.17 1513.66 2304.98 1513.66 Z\" fill=\"#000000\" fill-rule=\"nonzero\" fill-opacity=\"1\" /><polyline clip-path=\"url(#clip472)\" style=\"stroke:#000000; stroke-linecap:round; stroke-linejoin:round; stroke-width:2; stroke-opacity:0.1; fill:none\" points=\"141.182,1400.1 2352.76,1400.1 \"/>\n",
       "<polyline clip-path=\"url(#clip472)\" style=\"stroke:#000000; stroke-linecap:round; stroke-linejoin:round; stroke-width:2; stroke-opacity:0.1; fill:none\" points=\"141.182,1200 2352.76,1200 \"/>\n",
       "<polyline clip-path=\"url(#clip472)\" style=\"stroke:#000000; stroke-linecap:round; stroke-linejoin:round; stroke-width:2; stroke-opacity:0.1; fill:none\" points=\"141.182,999.906 2352.76,999.906 \"/>\n",
       "<polyline clip-path=\"url(#clip472)\" style=\"stroke:#000000; stroke-linecap:round; stroke-linejoin:round; stroke-width:2; stroke-opacity:0.1; fill:none\" points=\"141.182,799.809 2352.76,799.809 \"/>\n",
       "<polyline clip-path=\"url(#clip472)\" style=\"stroke:#000000; stroke-linecap:round; stroke-linejoin:round; stroke-width:2; stroke-opacity:0.1; fill:none\" points=\"141.182,599.712 2352.76,599.712 \"/>\n",
       "<polyline clip-path=\"url(#clip472)\" style=\"stroke:#000000; stroke-linecap:round; stroke-linejoin:round; stroke-width:2; stroke-opacity:0.1; fill:none\" points=\"141.182,399.615 2352.76,399.615 \"/>\n",
       "<polyline clip-path=\"url(#clip472)\" style=\"stroke:#000000; stroke-linecap:round; stroke-linejoin:round; stroke-width:2; stroke-opacity:0.1; fill:none\" points=\"141.182,199.518 2352.76,199.518 \"/>\n",
       "<polyline clip-path=\"url(#clip470)\" style=\"stroke:#000000; stroke-linecap:round; stroke-linejoin:round; stroke-width:4; stroke-opacity:1; fill:none\" points=\"141.182,1486.45 141.182,47.2441 \"/>\n",
       "<polyline clip-path=\"url(#clip470)\" style=\"stroke:#000000; stroke-linecap:round; stroke-linejoin:round; stroke-width:4; stroke-opacity:1; fill:none\" points=\"141.182,1400.1 160.079,1400.1 \"/>\n",
       "<polyline clip-path=\"url(#clip470)\" style=\"stroke:#000000; stroke-linecap:round; stroke-linejoin:round; stroke-width:4; stroke-opacity:1; fill:none\" points=\"141.182,1200 160.079,1200 \"/>\n",
       "<polyline clip-path=\"url(#clip470)\" style=\"stroke:#000000; stroke-linecap:round; stroke-linejoin:round; stroke-width:4; stroke-opacity:1; fill:none\" points=\"141.182,999.906 160.079,999.906 \"/>\n",
       "<polyline clip-path=\"url(#clip470)\" style=\"stroke:#000000; stroke-linecap:round; stroke-linejoin:round; stroke-width:4; stroke-opacity:1; fill:none\" points=\"141.182,799.809 160.079,799.809 \"/>\n",
       "<polyline clip-path=\"url(#clip470)\" style=\"stroke:#000000; stroke-linecap:round; stroke-linejoin:round; stroke-width:4; stroke-opacity:1; fill:none\" points=\"141.182,599.712 160.079,599.712 \"/>\n",
       "<polyline clip-path=\"url(#clip470)\" style=\"stroke:#000000; stroke-linecap:round; stroke-linejoin:round; stroke-width:4; stroke-opacity:1; fill:none\" points=\"141.182,399.615 160.079,399.615 \"/>\n",
       "<polyline clip-path=\"url(#clip470)\" style=\"stroke:#000000; stroke-linecap:round; stroke-linejoin:round; stroke-width:4; stroke-opacity:1; fill:none\" points=\"141.182,199.518 160.079,199.518 \"/>\n",
       "<path clip-path=\"url(#clip470)\" d=\"M57.7513 1413.44 L74.0707 1413.44 L74.0707 1417.38 L52.1264 1417.38 L52.1264 1413.44 Q54.7884 1410.69 59.3717 1406.06 Q63.9782 1401.41 65.1587 1400.06 Q67.4041 1397.54 68.2837 1395.81 Q69.1865 1394.05 69.1865 1392.36 Q69.1865 1389.6 67.242 1387.87 Q65.3208 1386.13 62.2189 1386.13 Q60.0199 1386.13 57.5662 1386.89 Q55.1356 1387.66 52.3579 1389.21 L52.3579 1384.49 Q55.1819 1383.35 57.6356 1382.77 Q60.0893 1382.19 62.1263 1382.19 Q67.4967 1382.19 70.6911 1384.88 Q73.8855 1387.56 73.8855 1392.06 Q73.8855 1394.18 73.0753 1396.11 Q72.2883 1398 70.1818 1400.6 Q69.6031 1401.27 66.5013 1404.49 Q63.3995 1407.68 57.7513 1413.44 Z\" fill=\"#000000\" fill-rule=\"nonzero\" fill-opacity=\"1\" /><path clip-path=\"url(#clip470)\" d=\"M98.0521 1398.75 Q101.409 1399.46 103.284 1401.73 Q105.182 1404 105.182 1407.33 Q105.182 1412.45 101.663 1415.25 Q98.1447 1418.05 91.6632 1418.05 Q89.4873 1418.05 87.1725 1417.61 Q84.8808 1417.19 82.4271 1416.34 L82.4271 1411.82 Q84.3716 1412.96 86.6864 1413.54 Q89.0012 1414.12 91.5243 1414.12 Q95.9224 1414.12 98.2141 1412.38 Q100.529 1410.64 100.529 1407.33 Q100.529 1404.28 98.3761 1402.56 Q96.2465 1400.83 92.4271 1400.83 L88.3993 1400.83 L88.3993 1396.99 L92.6123 1396.99 Q96.0613 1396.99 97.89 1395.62 Q99.7187 1394.23 99.7187 1391.64 Q99.7187 1388.98 97.8206 1387.56 Q95.9456 1386.13 92.4271 1386.13 Q90.5058 1386.13 88.3067 1386.55 Q86.1077 1386.96 83.4688 1387.84 L83.4688 1383.68 Q86.1308 1382.94 88.4456 1382.56 Q90.7836 1382.19 92.8438 1382.19 Q98.1678 1382.19 101.27 1384.62 Q104.371 1387.03 104.371 1391.15 Q104.371 1394.02 102.728 1396.01 Q101.084 1397.98 98.0521 1398.75 Z\" fill=\"#000000\" fill-rule=\"nonzero\" fill-opacity=\"1\" /><path clip-path=\"url(#clip470)\" d=\"M56.6171 1213.35 L72.9365 1213.35 L72.9365 1217.28 L50.9921 1217.28 L50.9921 1213.35 Q53.6541 1210.59 58.2375 1205.96 Q62.8439 1201.31 64.0245 1199.97 Q66.2698 1197.44 67.1494 1195.71 Q68.0522 1193.95 68.0522 1192.26 Q68.0522 1189.5 66.1078 1187.77 Q64.1865 1186.03 61.0847 1186.03 Q58.8856 1186.03 56.4319 1186.8 Q54.0014 1187.56 51.2236 1189.11 L51.2236 1184.39 Q54.0477 1183.25 56.5014 1182.68 Q58.955 1182.1 60.9921 1182.1 Q66.3624 1182.1 69.5568 1184.78 Q72.7513 1187.47 72.7513 1191.96 Q72.7513 1194.09 71.9411 1196.01 Q71.1541 1197.91 69.0476 1200.5 Q68.4689 1201.17 65.367 1204.39 Q62.2652 1207.58 56.6171 1213.35 Z\" fill=\"#000000\" fill-rule=\"nonzero\" fill-opacity=\"1\" /><path clip-path=\"url(#clip470)\" d=\"M95.5984 1186.8 L83.7929 1205.25 L95.5984 1205.25 L95.5984 1186.8 M94.3715 1182.72 L100.251 1182.72 L100.251 1205.25 L105.182 1205.25 L105.182 1209.13 L100.251 1209.13 L100.251 1217.28 L95.5984 1217.28 L95.5984 1209.13 L79.9966 1209.13 L79.9966 1204.62 L94.3715 1182.72 Z\" fill=\"#000000\" fill-rule=\"nonzero\" fill-opacity=\"1\" /><path clip-path=\"url(#clip470)\" d=\"M58.0986 1013.25 L74.4179 1013.25 L74.4179 1017.19 L52.4736 1017.19 L52.4736 1013.25 Q55.1356 1010.5 59.7189 1005.87 Q64.3254 1001.21 65.5059 999.871 Q67.7513 997.348 68.6309 995.612 Q69.5337 993.852 69.5337 992.163 Q69.5337 989.408 67.5893 987.672 Q65.668 985.936 62.5661 985.936 Q60.3671 985.936 57.9134 986.7 Q55.4828 987.464 52.7051 989.014 L52.7051 984.292 Q55.5291 983.158 57.9828 982.579 Q60.4365 982.001 62.4735 982.001 Q67.8439 982.001 71.0383 984.686 Q74.2327 987.371 74.2327 991.862 Q74.2327 993.991 73.4226 995.913 Q72.6355 997.811 70.5291 1000.4 Q69.9504 1001.07 66.8485 1004.29 Q63.7467 1007.49 58.0986 1013.25 Z\" fill=\"#000000\" fill-rule=\"nonzero\" fill-opacity=\"1\" /><path clip-path=\"url(#clip470)\" d=\"M84.279 982.626 L102.635 982.626 L102.635 986.561 L88.5614 986.561 L88.5614 995.033 Q89.5799 994.686 90.5984 994.524 Q91.6169 994.339 92.6354 994.339 Q98.4224 994.339 101.802 997.51 Q105.182 1000.68 105.182 1006.1 Q105.182 1011.68 101.709 1014.78 Q98.2372 1017.86 91.9178 1017.86 Q89.7419 1017.86 87.4734 1017.49 Q85.2281 1017.12 82.8207 1016.38 L82.8207 1011.68 Q84.904 1012.81 87.1262 1013.37 Q89.3484 1013.92 91.8252 1013.92 Q95.8298 1013.92 98.1678 1011.82 Q100.506 1009.71 100.506 1006.1 Q100.506 1002.49 98.1678 1000.38 Q95.8298 998.274 91.8252 998.274 Q89.9503 998.274 88.0753 998.69 Q86.2234 999.107 84.279 999.987 L84.279 982.626 Z\" fill=\"#000000\" fill-rule=\"nonzero\" fill-opacity=\"1\" /><path clip-path=\"url(#clip470)\" d=\"M56.9412 813.154 L73.2605 813.154 L73.2605 817.089 L51.3162 817.089 L51.3162 813.154 Q53.9782 810.399 58.5615 805.769 Q63.168 801.117 64.3485 799.774 Q66.5939 797.251 67.4735 795.515 Q68.3763 793.756 68.3763 792.066 Q68.3763 789.311 66.4319 787.575 Q64.5106 785.839 61.4087 785.839 Q59.2097 785.839 56.756 786.603 Q54.3254 787.367 51.5477 788.918 L51.5477 784.195 Q54.3717 783.061 56.8254 782.483 Q59.2791 781.904 61.3161 781.904 Q66.6865 781.904 69.8809 784.589 Q73.0753 787.274 73.0753 791.765 Q73.0753 793.894 72.2652 795.816 Q71.4781 797.714 69.3717 800.306 Q68.793 800.978 65.6911 804.195 Q62.5893 807.39 56.9412 813.154 Z\" fill=\"#000000\" fill-rule=\"nonzero\" fill-opacity=\"1\" /><path clip-path=\"url(#clip470)\" d=\"M93.6539 797.945 Q90.5058 797.945 88.654 800.098 Q86.8253 802.251 86.8253 806.001 Q86.8253 809.728 88.654 811.904 Q90.5058 814.056 93.6539 814.056 Q96.8021 814.056 98.6308 811.904 Q100.483 809.728 100.483 806.001 Q100.483 802.251 98.6308 800.098 Q96.8021 797.945 93.6539 797.945 M102.936 783.293 L102.936 787.552 Q101.177 786.719 99.3715 786.279 Q97.5891 785.839 95.8298 785.839 Q91.2002 785.839 88.7466 788.964 Q86.316 792.089 85.9688 798.408 Q87.3345 796.394 89.3947 795.33 Q91.4549 794.242 93.9317 794.242 Q99.14 794.242 102.149 797.413 Q105.182 800.561 105.182 806.001 Q105.182 811.325 102.034 814.543 Q98.8854 817.76 93.6539 817.76 Q87.6586 817.76 84.4873 813.177 Q81.316 808.57 81.316 799.844 Q81.316 791.649 85.2049 786.788 Q89.0938 781.904 95.6447 781.904 Q97.4039 781.904 99.1863 782.251 Q100.992 782.598 102.936 783.293 Z\" fill=\"#000000\" fill-rule=\"nonzero\" fill-opacity=\"1\" /><path clip-path=\"url(#clip470)\" d=\"M58.006 613.057 L74.3253 613.057 L74.3253 616.992 L52.381 616.992 L52.381 613.057 Q55.043 610.302 59.6263 605.673 Q64.2328 601.02 65.4133 599.677 Q67.6587 597.154 68.5383 595.418 Q69.4411 593.659 69.4411 591.969 Q69.4411 589.214 67.4967 587.478 Q65.5754 585.742 62.4735 585.742 Q60.2745 585.742 57.8208 586.506 Q55.3903 587.27 52.6125 588.821 L52.6125 584.099 Q55.4365 582.964 57.8902 582.386 Q60.3439 581.807 62.381 581.807 Q67.7513 581.807 70.9457 584.492 Q74.1402 587.177 74.1402 591.668 Q74.1402 593.798 73.33 595.719 Q72.5429 597.617 70.4365 600.21 Q69.8578 600.881 66.7559 604.099 Q63.6541 607.293 58.006 613.057 Z\" fill=\"#000000\" fill-rule=\"nonzero\" fill-opacity=\"1\" /><path clip-path=\"url(#clip470)\" d=\"M82.9595 582.432 L105.182 582.432 L105.182 584.423 L92.6354 616.992 L87.7512 616.992 L99.5567 586.367 L82.9595 586.367 L82.9595 582.432 Z\" fill=\"#000000\" fill-rule=\"nonzero\" fill-opacity=\"1\" /><path clip-path=\"url(#clip470)\" d=\"M57.1958 412.96 L73.5152 412.96 L73.5152 416.895 L51.5708 416.895 L51.5708 412.96 Q54.2328 410.205 58.8162 405.576 Q63.4226 400.923 64.6032 399.58 Q66.8485 397.057 67.7281 395.321 Q68.6309 393.562 68.6309 391.872 Q68.6309 389.118 66.6865 387.381 Q64.7652 385.645 61.6634 385.645 Q59.4643 385.645 57.0106 386.409 Q54.5801 387.173 51.8023 388.724 L51.8023 384.002 Q54.6264 382.868 57.0801 382.289 Q59.5337 381.71 61.5708 381.71 Q66.9411 381.71 70.1355 384.395 Q73.33 387.08 73.33 391.571 Q73.33 393.701 72.5198 395.622 Q71.7328 397.52 69.6263 400.113 Q69.0476 400.784 65.9457 404.002 Q62.8439 407.196 57.1958 412.96 Z\" fill=\"#000000\" fill-rule=\"nonzero\" fill-opacity=\"1\" /><path clip-path=\"url(#clip470)\" d=\"M93.3299 400.483 Q89.9965 400.483 88.0753 402.266 Q86.1771 404.048 86.1771 407.173 Q86.1771 410.298 88.0753 412.08 Q89.9965 413.863 93.3299 413.863 Q96.6632 413.863 98.5845 412.08 Q100.506 410.275 100.506 407.173 Q100.506 404.048 98.5845 402.266 Q96.6863 400.483 93.3299 400.483 M88.654 398.492 Q85.6447 397.752 83.9549 395.692 Q82.2883 393.631 82.2883 390.668 Q82.2883 386.525 85.2281 384.118 Q88.191 381.71 93.3299 381.71 Q98.4919 381.71 101.432 384.118 Q104.371 386.525 104.371 390.668 Q104.371 393.631 102.682 395.692 Q101.015 397.752 98.0289 398.492 Q101.409 399.279 103.284 401.571 Q105.182 403.863 105.182 407.173 Q105.182 412.196 102.103 414.881 Q99.0474 417.566 93.3299 417.566 Q87.6123 417.566 84.5336 414.881 Q81.4781 412.196 81.4781 407.173 Q81.4781 403.863 83.3762 401.571 Q85.2743 399.279 88.654 398.492 M86.941 391.108 Q86.941 393.793 88.6077 395.298 Q90.2975 396.803 93.3299 396.803 Q96.3391 396.803 98.0289 395.298 Q99.7419 393.793 99.7419 391.108 Q99.7419 388.423 98.0289 386.918 Q96.3391 385.414 93.3299 385.414 Q90.2975 385.414 88.6077 386.918 Q86.941 388.423 86.941 391.108 Z\" fill=\"#000000\" fill-rule=\"nonzero\" fill-opacity=\"1\" /><path clip-path=\"url(#clip470)\" d=\"M57.2884 212.863 L73.6077 212.863 L73.6077 216.798 L51.6634 216.798 L51.6634 212.863 Q54.3254 210.109 58.9088 205.479 Q63.5152 200.826 64.6958 199.484 Q66.9411 196.96 67.8207 195.224 Q68.7235 193.465 68.7235 191.775 Q68.7235 189.021 66.7791 187.285 Q64.8578 185.548 61.756 185.548 Q59.5569 185.548 57.1032 186.312 Q54.6727 187.076 51.8949 188.627 L51.8949 183.905 Q54.719 182.771 57.1726 182.192 Q59.6263 181.613 61.6634 181.613 Q67.0337 181.613 70.2281 184.298 Q73.4226 186.984 73.4226 191.474 Q73.4226 193.604 72.6124 195.525 Q71.8253 197.423 69.7189 200.016 Q69.1402 200.687 66.0383 203.905 Q62.9365 207.099 57.2884 212.863 Z\" fill=\"#000000\" fill-rule=\"nonzero\" fill-opacity=\"1\" /><path clip-path=\"url(#clip470)\" d=\"M83.5614 216.081 L83.5614 211.821 Q85.3206 212.655 87.1262 213.095 Q88.9317 213.534 90.6678 213.534 Q95.2974 213.534 97.728 210.433 Q100.182 207.308 100.529 200.965 Q99.1863 202.956 97.1261 204.021 Q95.066 205.085 92.566 205.085 Q87.3808 205.085 84.3484 201.96 Q81.3392 198.812 81.3392 193.373 Q81.3392 188.048 84.4873 184.831 Q87.6354 181.613 92.8669 181.613 Q98.8622 181.613 102.01 186.22 Q105.182 190.803 105.182 199.553 Q105.182 207.724 101.293 212.609 Q97.4271 217.47 90.8762 217.47 Q89.1169 217.47 87.3114 217.122 Q85.5058 216.775 83.5614 216.081 M92.8669 201.428 Q96.015 201.428 97.8437 199.275 Q99.6956 197.122 99.6956 193.373 Q99.6956 189.646 97.8437 187.493 Q96.015 185.317 92.8669 185.317 Q89.7188 185.317 87.8669 187.493 Q86.0382 189.646 86.0382 193.373 Q86.0382 197.122 87.8669 199.275 Q89.7188 201.428 92.8669 201.428 Z\" fill=\"#000000\" fill-rule=\"nonzero\" fill-opacity=\"1\" /><polyline clip-path=\"url(#clip472)\" style=\"stroke:#009af9; stroke-linecap:round; stroke-linejoin:round; stroke-width:4; stroke-opacity:1; fill:none\" points=\"203.773,87.9763 246.353,1078.97 288.932,1125.76 331.512,1168.94 374.091,1203.09 416.67,1230.06 459.25,1254.66 501.829,1277.76 544.409,1302.69 586.988,1316.86 629.567,1326.25 672.147,1336.08 714.726,1342.58 757.306,1352.84 799.885,1365.11 842.464,1372.28 885.044,1370.74 927.623,1387.49 970.203,1387.64 1012.78,1389.67 1055.36,1401.76 1097.94,1402.46 1140.52,1403.28 1183.1,1405.35 1225.68,1403.95 1268.26,1416.43 1310.84,1410.95 1353.42,1424.86 1396,1407.67 1438.58,1407.8 1481.16,1415.34 1523.73,1412.93 1566.31,1423.1 1608.89,1418.1 1651.47,1425.67 1694.05,1427.16 1736.63,1429.41 1779.21,1426.58 1821.79,1428.21 1864.37,1418.28 1906.95,1431.76 1949.53,1424.81 1992.11,1429.93 2034.69,1445.72 2077.27,1428.95 2119.85,1438.76 2162.43,1428.94 2205.01,1438.35 2247.58,1435.05 2290.16,1432.39 \"/>\n",
       "<path clip-path=\"url(#clip470)\" d=\"M2005.45 198.898 L2279.04 198.898 L2279.04 95.2176 L2005.45 95.2176  Z\" fill=\"#ffffff\" fill-rule=\"evenodd\" fill-opacity=\"1\"/>\n",
       "<polyline clip-path=\"url(#clip470)\" style=\"stroke:#000000; stroke-linecap:round; stroke-linejoin:round; stroke-width:4; stroke-opacity:1; fill:none\" points=\"2005.45,198.898 2279.04,198.898 2279.04,95.2176 2005.45,95.2176 2005.45,198.898 \"/>\n",
       "<polyline clip-path=\"url(#clip470)\" style=\"stroke:#009af9; stroke-linecap:round; stroke-linejoin:round; stroke-width:4; stroke-opacity:1; fill:none\" points=\"2030.02,147.058 2177.46,147.058 \"/>\n",
       "<path clip-path=\"url(#clip470)\" d=\"M2215.88 166.745 Q2214.07 171.375 2212.36 172.787 Q2210.64 174.199 2207.77 174.199 L2204.37 174.199 L2204.37 170.634 L2206.87 170.634 Q2208.63 170.634 2209.6 169.8 Q2210.58 168.967 2211.76 165.865 L2212.52 163.921 L2202.03 138.412 L2206.55 138.412 L2214.65 158.689 L2222.75 138.412 L2227.26 138.412 L2215.88 166.745 Z\" fill=\"#000000\" fill-rule=\"nonzero\" fill-opacity=\"1\" /><path clip-path=\"url(#clip470)\" d=\"M2234.56 160.402 L2242.2 160.402 L2242.2 134.037 L2233.89 135.703 L2233.89 131.444 L2242.15 129.778 L2246.82 129.778 L2246.82 160.402 L2254.46 160.402 L2254.46 164.338 L2234.56 164.338 L2234.56 160.402 Z\" fill=\"#000000\" fill-rule=\"nonzero\" fill-opacity=\"1\" /></svg>\n"
      ]
     },
     "metadata": {},
     "output_type": "display_data"
    }
   ],
   "source": [
    "import Plots\n",
    "\n",
    "Plots.plot(losses)"
   ]
  },
  {
   "cell_type": "code",
   "execution_count": 5,
   "metadata": {},
   "outputs": [
    {
     "data": {
      "text/plain": [
       "5"
      ]
     },
     "metadata": {},
     "output_type": "display_data"
    }
   ],
   "source": [
    "date_now = 5"
   ]
  },
  {
   "cell_type": "code",
   "execution_count": 36,
   "metadata": {},
   "outputs": [],
   "source": [
    "io = open(string(\"./output/losses_\",ModelCfgs.D,\"_\",date_now,\".txt\"),\"w\")\n",
    "    for loss in losses \n",
    "        println(io,loss)\n",
    "    end\n",
    "close(io)"
   ]
  },
  {
   "cell_type": "code",
   "execution_count": 37,
   "metadata": {},
   "outputs": [],
   "source": [
    "cpu_model = Flux.cpu(flux_model)\n",
    "\n",
    "using BSON: @save\n",
    "@save string(\"./output/mymodel_\",ModelCfgs.D,\"_\",date_now,\".bson\") cpu_model"
   ]
  },
  {
   "cell_type": "code",
   "execution_count": 6,
   "metadata": {},
   "outputs": [],
   "source": [
    "using Flux, BSON\n",
    "BSON.@load string(\"./output/mymodel_$(ModelCfgs.D)_\",date_now,\".bson\") cpu_model"
   ]
  },
  {
   "cell_type": "code",
   "execution_count": 41,
   "metadata": {},
   "outputs": [
    {
     "data": {
      "text/plain": [
       "Chain(\n",
       "  Recur(\n",
       "    LSTMCell(3 => 32),                  \u001b[90m# 4_672 parameters\u001b[39m\n",
       "  ),\n",
       "  Recur(\n",
       "    LSTMCell(32 => 16),                 \u001b[90m# 3_168 parameters\u001b[39m\n",
       "  ),\n",
       "  Flux.flatten,\n",
       "  Dense(8192 => 3),                     \u001b[90m# 24_579 parameters\u001b[39m\n",
       "  NNlib.softmax,\n",
       ") \u001b[90m        # Total: 12 trainable arrays, \u001b[39m32_419 parameters,\n",
       "\u001b[90m          # plus 4 non-trainable, 49_152 parameters, summarysize \u001b[39m319.590 KiB."
      ]
     },
     "metadata": {},
     "output_type": "display_data"
    }
   ],
   "source": [
    "cpu_model = Flux.cpu(flux_model)"
   ]
  },
  {
   "cell_type": "code",
   "execution_count": 43,
   "metadata": {},
   "outputs": [
    {
     "data": {
      "text/plain": [
       "Params([Float32[0.0650337 -0.05625801 -0.20979801; 0.067811474 -0.00074139243 0.16612074; … ; -0.08719223 -0.16666235 0.0077363444; 0.07778177 -0.081024975 -0.013297565], Float32[-0.08958635 -0.09364281 … 0.051046483 -0.1074993; -0.13679382 -0.019218294 … 0.11988527 -0.11770011; … ; 0.0708203 -0.008360626 … -0.14308523 0.0012270676; 0.16647737 -0.008177981 … -0.0027759464 -0.04906301], Float32[-0.0053818994, 0.0015517654, -0.0043855044, -0.0017560734, 0.0005418071, -0.004889137, -0.0076855114, 0.009650614, 0.0022684173, 0.0011302921  …  0.00015253766, 0.00141148, -0.0050232597, -0.00070988084, -0.00039954693, -0.0023853565, 0.006099094, -0.0068570855, -0.004545181, 0.0074984594], Float32[0.0; 0.0; … ; 0.0; 0.0;;], Float32[0.0; 0.0; … ; 0.0; 0.0;;], Float32[-0.2018819 0.22097838 … 0.069937564 -0.0015294589; 0.18300688 0.069136366 … -0.040219977 -0.15350205; … ; -0.027393183 -0.21524669 … 0.16641349 -0.05165789; -0.005190822 0.18471913 … 0.14718677 0.056152496], Float32[0.21771675 -0.13184136 … 0.043545138 0.2210576; -0.1724209 -0.011412466 … 0.02478867 -0.03244415; … ; -0.26917276 0.19439755 … 0.018811548 0.14415573; -0.06675552 -0.114315085 … -0.041269638 -0.22271293], Float32[0.0031155809, -0.01098692, 0.005813501, 0.0011750017, 0.0032703124, 0.0020023454, -0.0028421534, -0.008551624, -0.009074118, -0.008614798  …  -0.0032940672, -0.00787979, -0.009117587, -0.007936298, 0.0064006164, -0.003446346, -0.008520319, -0.0031702896, -0.0049898303, 0.0014091093], Float32[0.0; 0.0; … ; 0.0; 0.0;;], Float32[0.0; 0.0; … ; 0.0; 0.0;;], Float32[0.008014868 0.02749432 … -0.0011479412 -0.0033449444; 0.02500274 -0.008697134 … -0.001589191 0.022607585; -0.008158684 0.028095912 … -0.021034366 0.02157955], Float32[-0.008834205, 0.0009174308, 0.00035376917]])"
      ]
     },
     "metadata": {},
     "output_type": "display_data"
    }
   ],
   "source": [
    "Flux.params(cpu_model)"
   ]
  },
  {
   "cell_type": "code",
   "execution_count": 19,
   "metadata": {},
   "outputs": [
    {
     "data": {
      "text/plain": [
       "accuracy (generic function with 2 methods)"
      ]
     },
     "metadata": {},
     "output_type": "display_data"
    }
   ],
   "source": [
    "# calculate accuracy\n",
    "function accuracy(model, x, y)\n",
    "   ŷ = Flux.cpu(model(x))\n",
    "#    @show size(ŷ)\n",
    "#    @show argmax(ŷ, dims=1) |> size \n",
    "    y = Flux.cpu(y)  \n",
    "    \n",
    "    \n",
    "    acc = sum(argmax(ŷ, dims=1) .== argmax(y, dims=1)) / length(y)\n",
    "    acc\n",
    "end\n",
    "\n",
    "function accuracy(model, data_loader)\n",
    "    acc = 0.0\n",
    "    for (x,y) in data_loader\n",
    "        \n",
    "        acc += accuracy(model, x, y)\n",
    "\n",
    "        \n",
    "    end\n",
    "    acc / length(data_loader)\n",
    "end\n"
   ]
  },
  {
   "cell_type": "code",
   "execution_count": 15,
   "metadata": {},
   "outputs": [
    {
     "data": {
      "text/plain": [
       "41-element DataLoader(::DataSet, batchsize=32)\n",
       "  with first element:\n",
       "  (3×512×32 Array{Float64, 3}, 3×32 Matrix{Int64},)"
      ]
     },
     "metadata": {},
     "output_type": "display_data"
    }
   ],
   "source": [
    "using ProgressMeter\n",
    "using MLUtils \n",
    "\n",
    "data_loader = MLUtils.DataLoader(DataSet(ModelCfgs.D), batchsize=32) \n"
   ]
  },
  {
   "cell_type": "code",
   "execution_count": 20,
   "metadata": {},
   "outputs": [
    {
     "data": {
      "text/plain": [
       "0.2559929459588713"
      ]
     },
     "metadata": {},
     "output_type": "display_data"
    }
   ],
   "source": [
    "\n",
    "accuracy(cpu_model, data_loader)\n"
   ]
  },
  {
   "cell_type": "code",
   "execution_count": 23,
   "metadata": {},
   "outputs": [
    {
     "data": {
      "text/plain": [
       "0.003810975609756097"
      ]
     },
     "metadata": {},
     "output_type": "display_data"
    }
   ],
   "source": [
    "data_loader2 = MLUtils.DataLoader(DataSet(ModelCfgs.D), batchsize=32) \n",
    "baseline_model = Model.model \n",
    "accuracy(baseline_model, data_loader2)"
   ]
  },
  {
   "cell_type": "code",
   "execution_count": 22,
   "metadata": {},
   "outputs": [
    {
     "data": {
      "text/plain": [
       "Chain(\n",
       "  Recur(\n",
       "    LSTMCell(3 => 32),                  \u001b[90m# 4_672 parameters\u001b[39m\n",
       "  ),\n",
       "  Recur(\n",
       "    LSTMCell(32 => 16),                 \u001b[90m# 3_168 parameters\u001b[39m\n",
       "  ),\n",
       "  Flux.flatten,\n",
       "  Dense(8192 => 3),                     \u001b[90m# 24_579 parameters\u001b[39m\n",
       "  NNlib.softmax,\n",
       ") \u001b[90m        # Total: 12 trainable arrays, \u001b[39m32_419 parameters,\n",
       "\u001b[90m          # plus 4 non-trainable, 49_152 parameters, summarysize \u001b[39m319.590 KiB."
      ]
     },
     "metadata": {},
     "output_type": "display_data"
    }
   ],
   "source": [
    "baseline_model"
   ]
  }
 ],
 "metadata": {
  "kernelspec": {
   "display_name": "Julia 1.9.1",
   "language": "julia",
   "name": "julia-1.9"
  },
  "language_info": {
   "file_extension": ".jl",
   "mimetype": "application/julia",
   "name": "julia",
   "version": "1.9.1"
  }
 },
 "nbformat": 4,
 "nbformat_minor": 2
}
