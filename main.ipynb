{
 "cells": [
  {
   "cell_type": "code",
   "execution_count": 52,
   "metadata": {},
   "outputs": [
    {
     "name": "stderr",
     "output_type": "stream",
     "text": [
      "WARNING: replacing module DataCfgs.\n",
      "WARNING: replacing module ModelCfgs.\n",
      "WARNING: replacing module PExcpts.\n",
      "WARNING: replacing module Model.\n"
     ]
    }
   ],
   "source": [
    "include(\"./prepare_data.jl\")\n",
    "include(\"./model.jl\")\n",
    "\n",
    "import .Model\n",
    "import Flux"
   ]
  },
  {
   "cell_type": "code",
   "execution_count": 53,
   "metadata": {},
   "outputs": [
    {
     "data": {
      "text/plain": [
       "Chain(\n",
       "  Recur(\n",
       "    LSTMCell(128 => 64),                \u001b[90m# 49_536 parameters\u001b[39m\n",
       "  ),\n",
       "  MaxPool((2,)),\n",
       "  Recur(\n",
       "    LSTMCell(32 => 16),                 \u001b[90m# 3_168 parameters\u001b[39m\n",
       "  ),\n",
       "  Flux.flatten,\n",
       "  Dense(48 => 3),                       \u001b[90m# 147 parameters\u001b[39m\n",
       "  NNlib.softmax,\n",
       ") \u001b[90m        # Total: 12 trainable arrays, \u001b[39m52_851 parameters,\n",
       "\u001b[90m          # plus 4 non-trainable, 160 parameters, summarysize \u001b[39m207.309 KiB."
      ]
     },
     "metadata": {},
     "output_type": "display_data"
    }
   ],
   "source": [
    "model = Model.model"
   ]
  },
  {
   "cell_type": "code",
   "execution_count": 54,
   "metadata": {},
   "outputs": [
    {
     "data": {
      "text/plain": [
       "3×4 Matrix{Float32}:\n",
       " 0.332245  0.329028  0.328266  0.324593\n",
       " 0.32893   0.327201  0.326686  0.331657\n",
       " 0.338826  0.343771  0.345048  0.34375"
      ]
     },
     "metadata": {},
     "output_type": "display_data"
    }
   ],
   "source": [
    "x = rand(Float32, (128,3,4))\n",
    "model(x)"
   ]
  }
 ],
 "metadata": {
  "kernelspec": {
   "display_name": "Julia 1.8.4",
   "language": "julia",
   "name": "julia-1.8"
  },
  "language_info": {
   "file_extension": ".jl",
   "mimetype": "application/julia",
   "name": "julia",
   "version": "1.8.4"
  },
  "orig_nbformat": 4
 },
 "nbformat": 4,
 "nbformat_minor": 2
}
