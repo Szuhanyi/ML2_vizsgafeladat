{
 "cells": [
  {
   "cell_type": "code",
   "execution_count": null,
   "metadata": {},
   "outputs": [],
   "source": [
    "include(\"./prepare_data.jl\")\n",
    "include(\"./model.jl\")\n",
    "\n",
    "import .Model\n",
    "import Flux"
   ]
  },
  {
   "cell_type": "code",
   "execution_count": null,
   "metadata": {},
   "outputs": [],
   "source": [
    "using CUDA \n",
    "device = Flux.gpu\n",
    "\n",
    "flux_model = Model.model |> device"
   ]
  },
  {
   "cell_type": "code",
   "execution_count": null,
   "metadata": {},
   "outputs": [],
   "source": [
    "function flux_loss(model, x, y)\n",
    "    ŷ = model(x)\n",
    "    Flux.crossentropy(ŷ, y)\n",
    "end"
   ]
  },
  {
   "cell_type": "code",
   "execution_count": null,
   "metadata": {},
   "outputs": [],
   "source": [
    "using ProgressMeter\n",
    "using MLUtils \n",
    "# include(\"./config.jl\")\n",
    "# import .ModelCfgs\n",
    "\n",
    "data_loader = MLUtils.DataLoader(DataSet(ModelCfgs.D), batchsize=32) |> device\n",
    " opt_state  = Flux.setup(Flux.Adam(0.01),flux_model)\n"
   ]
  },
  {
   "cell_type": "code",
   "execution_count": null,
   "metadata": {},
   "outputs": [],
   "source": [
    "losses = []\n",
    "epochs = 500\n",
    "@showprogress for epoch in 1:epochs \n",
    "                    for (x,y) in data_loader\n",
    "                        l = flux_loss(flux_model, x, y)\n",
    "                        push!(losses, l)\n",
    "                        Flux.train!(flux_loss, flux_model, [(x, y)], opt_state)\n",
    "                    end\n",
    "end"
   ]
  },
  {
   "cell_type": "code",
   "execution_count": null,
   "metadata": {},
   "outputs": [],
   "source": [
    "using Dates\n",
    "now = Dates.now()\n",
    "date_now = Dates.value(now)\n"
   ]
  },
  {
   "cell_type": "code",
   "execution_count": null,
   "metadata": {},
   "outputs": [],
   "source": [
    "cpu_model = Flux.cpu(flux_model)\n",
    "\n",
    "using BSON: @save\n",
    "@save string(\"./output/mymodel_\",date_now,\".bson\") cpu_model"
   ]
  },
  {
   "cell_type": "code",
   "execution_count": null,
   "metadata": {},
   "outputs": [],
   "source": [
    "using Flux, BSON\n",
    "BSON.@load string(\"./output/mymodel_\",date_now,\".bson\") cpu_model"
   ]
  },
  {
   "cell_type": "code",
   "execution_count": null,
   "metadata": {},
   "outputs": [],
   "source": [
    "Flux.params(cpu_model )"
   ]
  }
 ],
 "metadata": {
  "kernelspec": {
   "display_name": "Julia 1.9.1",
   "language": "julia",
   "name": "julia-1.9"
  },
  "language_info": {
   "file_extension": ".jl",
   "mimetype": "application/julia",
   "name": "julia",
   "version": "1.9.1"
  },
  "orig_nbformat": 4
 },
 "nbformat": 4,
 "nbformat_minor": 2
}
