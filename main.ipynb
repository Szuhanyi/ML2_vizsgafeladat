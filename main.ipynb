{
 "cells": [
  {
   "cell_type": "code",
   "execution_count": 25,
   "metadata": {},
   "outputs": [
    {
     "name": "stderr",
     "output_type": "stream",
     "text": [
      "WARNING: replacing module DataCfgs.\n",
      "WARNING: replacing module ModelCfgs.\n",
      "WARNING: replacing module PExcpts.\n",
      "WARNING: replacing module Model.\n"
     ]
    }
   ],
   "source": [
    "include(\"./prepare_data.jl\")\n",
    "include(\"./model.jl\")\n",
    "\n",
    "import .Model\n",
    "import Flux"
   ]
  },
  {
   "cell_type": "code",
   "execution_count": 26,
   "metadata": {},
   "outputs": [
    {
     "data": {
      "text/plain": [
       "Chain(\n",
       "  Recur(\n",
       "    LSTMCell(128 => 64),                \u001b[90m# 49_536 parameters\u001b[39m\n",
       "  ),\n",
       "  Recur(\n",
       "    LSTMCell(64 => 32),                 \u001b[90m# 12_480 parameters\u001b[39m\n",
       "  ),\n",
       "  Flux.flatten,\n",
       "  Dense(96 => 3),                       \u001b[90m# 291 parameters\u001b[39m\n",
       "  NNlib.softmax,\n",
       ") \u001b[90m        # Total: 12 trainable arrays, \u001b[39m62_307 parameters,\n",
       "\u001b[90m          # plus 4 non-trainable, 192 parameters, summarysize \u001b[39m244.184 KiB."
      ]
     },
     "metadata": {},
     "output_type": "display_data"
    }
   ],
   "source": [
    "model = Model.model"
   ]
  },
  {
   "cell_type": "code",
   "execution_count": 28,
   "metadata": {},
   "outputs": [
    {
     "data": {
      "text/plain": [
       "3×4 Matrix{Float32}:\n",
       " 0.287264  0.287657  0.284707  0.287036\n",
       " 0.332946  0.321546  0.318121  0.308019\n",
       " 0.37979   0.390797  0.397172  0.404945"
      ]
     },
     "metadata": {},
     "output_type": "display_data"
    }
   ],
   "source": [
    "x = rand(Float32, (128,3,4))\n",
    "model(x)"
   ]
  }
 ],
 "metadata": {
  "kernelspec": {
   "display_name": "Julia 1.8.4",
   "language": "julia",
   "name": "julia-1.8"
  },
  "language_info": {
   "file_extension": ".jl",
   "mimetype": "application/julia",
   "name": "julia",
   "version": "1.8.4"
  },
  "orig_nbformat": 4
 },
 "nbformat": 4,
 "nbformat_minor": 2
}
